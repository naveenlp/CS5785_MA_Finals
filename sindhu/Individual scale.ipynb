{
 "cells": [
  {
   "cell_type": "code",
   "execution_count": 1,
   "metadata": {
    "collapsed": false
   },
   "outputs": [
    {
     "name": "stdout",
     "output_type": "stream",
     "text": [
      "[NbConvertApp] Converting notebook library.ipynb to python\n",
      "[NbConvertApp] Writing 2792 bytes to library.py\n"
     ]
    }
   ],
   "source": [
    "%run \"library.py\""
   ]
  },
  {
   "cell_type": "code",
   "execution_count": 2,
   "metadata": {
    "collapsed": true
   },
   "outputs": [],
   "source": [
    "from sklearn import preprocessing\n",
    "from sklearn.lda import LDA\n",
    "from sklearn import svm, cross_validation"
   ]
  },
  {
   "cell_type": "code",
   "execution_count": 3,
   "metadata": {
    "collapsed": true
   },
   "outputs": [],
   "source": [
    "train_data = preprocessing.scale(train_cnn, axis=0)\n",
    "\n",
    "means = np.mean(train_cnn,axis=0)\n",
    "stds = np.std(train_cnn,axis=0)\n",
    "test_cnn = (test_cnn - means[None,:])/ stds[None,:]"
   ]
  },
  {
   "cell_type": "code",
   "execution_count": 4,
   "metadata": {
    "collapsed": false
   },
   "outputs": [
    {
     "name": "stdout",
     "output_type": "stream",
     "text": [
      "0.363\n",
      "0.363\n",
      "0.345\n",
      "[0.36299999999999999, 0.36299999999999999, 0.34499999999999997] mean:  0.357\n"
     ]
    }
   ],
   "source": [
    "#svm classification\n",
    "from sklearn import linear_model, svm\n",
    "from sklearn.cross_validation import KFold\n",
    "\n",
    "svm_accuracy = []\n",
    "for train, test in  KFold(len(train_data),n_folds=3):\n",
    "    X_train,Y_train, X_test,Y_test = train_data[train],train_labels[train],train_data[test],train_labels[test]\n",
    "    score = svm.SVC(kernel='linear').fit(X_train,Y_train).score(X_test,Y_test)\n",
    "    svm_accuracy.append(score)\n",
    "    print score\n",
    "print svm_accuracy, \"mean: \", np.mean(svm_accuracy)"
   ]
  },
  {
   "cell_type": "code",
   "execution_count": 5,
   "metadata": {
    "collapsed": false
   },
   "outputs": [
    {
     "name": "stdout",
     "output_type": "stream",
     "text": [
      "0.359\n"
     ]
    }
   ],
   "source": [
    "#no scaling\n",
    "#svm classification\n",
    "from sklearn import linear_model, svm\n",
    "from sklearn.cross_validation import KFold\n",
    "\n",
    "svm_accuracy = []\n",
    "for train, test in  KFold(len(train_cnn),n_folds=3):\n",
    "    X_train,Y_train, X_test,Y_test = train_cnn[train],train_labels[train],train_cnn[test],train_labels[test]\n",
    "    score = svm.SVC(kernel='linear').fit(X_train,Y_train).score(X_test,Y_test)\n",
    "    svm_accuracy.append(score)\n",
    "    print score\n",
    "    break\n",
    "#print svm_accuracy, \"mean: \", np.mean(svm_accuracy)"
   ]
  },
  {
   "cell_type": "code",
   "execution_count": 10,
   "metadata": {
    "collapsed": false
   },
   "outputs": [
    {
     "name": "stdout",
     "output_type": "stream",
     "text": [
      "0.356666666667\n",
      "0.378333333333\n",
      "0.406666666667\n",
      "0.353333333333\n",
      "0.36\n",
      "[0.35666666666666669, 0.37833333333333335, 0.40666666666666668, 0.35333333333333333, 0.35999999999999999] mean:  0.371\n"
     ]
    }
   ],
   "source": [
    "#column scaling\n",
    "#svm classification\n",
    "train_data = preprocessing.scale(train_cnn, axis=0)\n",
    "\n",
    "means = np.mean(train_cnn,axis=0)\n",
    "stds = np.std(train_cnn,axis=0)\n",
    "test_cnn = (test_cnn - means[None,:])/ stds[None,:]\n",
    "\n",
    "from sklearn import linear_model, svm\n",
    "from sklearn.cross_validation import KFold\n",
    "\n",
    "svm_accuracy = []\n",
    "for train, test in  KFold(len(train_data),n_folds=5):\n",
    "    X_train,Y_train, X_test,Y_test = train_data[train],train_labels[train],train_data[test],train_labels[test]\n",
    "    score = svm.SVC(kernel='linear').fit(X_train,Y_train).score(X_test,Y_test)\n",
    "    svm_accuracy.append(score)\n",
    "    print score\n",
    "    #break\n",
    "print svm_accuracy, \"mean: \", np.mean(svm_accuracy)"
   ]
  },
  {
   "cell_type": "code",
   "execution_count": 25,
   "metadata": {
    "collapsed": false
   },
   "outputs": [
    {
     "name": "stdout",
     "output_type": "stream",
     "text": [
      "0.37\n",
      "0.385\n",
      "0.406666666667\n",
      "0.383333333333\n",
      "0.373333333333\n",
      "[0.37, 0.38500000000000001, 0.40666666666666668, 0.38333333333333336, 0.37333333333333335] mean:  0.383666666667\n"
     ]
    }
   ],
   "source": [
    "#row scaling\n",
    "#svm classification\n",
    "train_data = preprocessing.scale(train_cnn, axis=1)\n",
    "\n",
    "#means = np.mean(train_cnn,axis=1)\n",
    "#stds = np.std(train_cnn,axis=1)\n",
    "#test_cnn = (test_cnn - means[None,:])/ stds[None,:]\n",
    "\n",
    "from sklearn import linear_model, svm\n",
    "from sklearn.cross_validation import KFold\n",
    "\n",
    "svm_accuracy = []\n",
    "for train, test in  KFold(len(train_data),n_folds=5):\n",
    "    X_train,Y_train, X_test,Y_test = train_data[train],train_labels[train],train_data[test],train_labels[test]\n",
    "    score = svm.SVC(kernel='linear').fit(X_train,Y_train).score(X_test,Y_test)\n",
    "    svm_accuracy.append(score)\n",
    "    print score\n",
    "    #break\n",
    "print svm_accuracy, \"mean: \", np.mean(svm_accuracy)"
   ]
  },
  {
   "cell_type": "code",
   "execution_count": 32,
   "metadata": {
    "collapsed": false
   },
   "outputs": [
    {
     "name": "stdout",
     "output_type": "stream",
     "text": [
      "['yard' 'hill' 'ranch_house' ..., 'television_studio' 'street' 'bayou']\n"
     ]
    }
   ],
   "source": [
    "#generate kaggle result for SVM\n",
    "#scale test features\n",
    "from sklearn import svm, cross_validation\n",
    "#scale test set\n",
    "\n",
    "test_data = preprocessing.scale(train_cnn, axis=1)\n",
    "predict = svm.SVC(kernel='linear').fit(train_data,train_labels).predict(test_data)\n",
    "print predict"
   ]
  },
  {
   "cell_type": "code",
   "execution_count": 31,
   "metadata": {
    "collapsed": true
   },
   "outputs": [],
   "source": [
    "def kaggle_output(predict):\n",
    "    kaggle_output = np.vstack([test_filenames,outputs]).transpose()\n",
    "    print kaggle_output\n",
    "    np.savetxt(\"kaggle_output.csv\", kaggle_output, delimiter=\",\", header=\"ID,Category\", comments='', fmt=\"%s\")\n"
   ]
  },
  {
   "cell_type": "code",
   "execution_count": 11,
   "metadata": {
    "collapsed": false
   },
   "outputs": [
    {
     "name": "stdout",
     "output_type": "stream",
     "text": [
      "0.107\n"
     ]
    }
   ],
   "source": [
    "#row scaling\n",
    "#svm classification\n",
    "train_data = preprocessing.scale(train_bow, axis=1)\n",
    "\n",
    "#means = np.mean(train_cnn,axis=1)\n",
    "#stds = np.std(train_cnn,axis=1)\n",
    "#test_cnn = (test_cnn - means[None,:])/ stds[None,:]\n",
    "\n",
    "from sklearn import linear_model, svm\n",
    "from sklearn.cross_validation import KFold\n",
    "\n",
    "svm_accuracy = []\n",
    "for train, test in  KFold(len(train_data),n_folds=3):\n",
    "    X_train,Y_train, X_test,Y_test = train_data[train],train_labels[train],train_data[test],train_labels[test]\n",
    "    score = svm.SVC(kernel='linear').fit(X_train,Y_train).score(X_test,Y_test)\n",
    "    svm_accuracy.append(score)\n",
    "    print score\n",
    "    break\n",
    "#print svm_accuracy, \"mean: \", np.mean(svm_accuracy)"
   ]
  },
  {
   "cell_type": "code",
   "execution_count": 14,
   "metadata": {
    "collapsed": false
   },
   "outputs": [
    {
     "name": "stdout",
     "output_type": "stream",
     "text": [
      "0.125\n",
      "0.133333333333\n",
      "0.13\n",
      "0.121666666667\n",
      "0.12\n",
      "[0.125, 0.13333333333333333, 0.13, 0.12166666666666667, 0.12] mean:  0.126\n"
     ]
    }
   ],
   "source": [
    "#no scaling\n",
    "#svm classification\n",
    "#train_data = preprocessing.scale(train_bow, axis=1)\n",
    "\n",
    "#means = np.mean(train_cnn,axis=1)\n",
    "#stds = np.std(train_cnn,axis=1)\n",
    "#test_cnn = (test_cnn - means[None,:])/ stds[None,:]\n",
    "\n",
    "from sklearn import linear_model, svm\n",
    "from sklearn.cross_validation import KFold\n",
    "\n",
    "svm_accuracy = []\n",
    "for train, test in  KFold(len(train_bow),n_folds=5):\n",
    "    X_train,Y_train, X_test,Y_test = train_bow[train],train_labels[train],train_bow[test],train_labels[test]\n",
    "    score = svm.SVC(kernel='linear').fit(X_train,Y_train).score(X_test,Y_test)\n",
    "    svm_accuracy.append(score)\n",
    "    print score\n",
    "    #break\n",
    "print svm_accuracy, \"mean: \", np.mean(svm_accuracy)"
   ]
  },
  {
   "cell_type": "code",
   "execution_count": 15,
   "metadata": {
    "collapsed": false
   },
   "outputs": [
    {
     "name": "stdout",
     "output_type": "stream",
     "text": [
      "0.128333333333\n",
      "0.141666666667\n",
      "0.136666666667\n",
      "0.123333333333\n",
      "0.115\n",
      "[0.12833333333333333, 0.14166666666666666, 0.13666666666666666, 0.12333333333333334, 0.115] mean:  0.129\n"
     ]
    }
   ],
   "source": [
    "#column scaling\n",
    "#svm classification\n",
    "train_data = preprocessing.scale(train_bow, axis=0)\n",
    "\n",
    "#means = np.mean(train_cnn,axis=1)\n",
    "#stds = np.std(train_cnn,axis=1)\n",
    "#test_cnn = (test_cnn - means[None,:])/ stds[None,:]\n",
    "\n",
    "from sklearn import linear_model, svm\n",
    "from sklearn.cross_validation import KFold\n",
    "\n",
    "svm_accuracy = []\n",
    "for train, test in  KFold(len(train_data),n_folds=5):\n",
    "    X_train,Y_train, X_test,Y_test = train_data[train],train_labels[train],train_data[test],train_labels[test]\n",
    "    score = svm.SVC(kernel='linear').fit(X_train,Y_train).score(X_test,Y_test)\n",
    "    svm_accuracy.append(score)\n",
    "    print score\n",
    "    #break\n",
    "print svm_accuracy, \"mean: \", np.mean(svm_accuracy)"
   ]
  },
  {
   "cell_type": "code",
   "execution_count": 22,
   "metadata": {
    "collapsed": false
   },
   "outputs": [
    {
     "name": "stdout",
     "output_type": "stream",
     "text": [
      "0.253333333333\n",
      "0.261666666667\n",
      "0.261666666667\n",
      "0.256666666667\n",
      "0.265\n",
      "[0.25333333333333335, 0.26166666666666666, 0.26166666666666666, 0.25666666666666665, 0.26500000000000001] mean:  0.259666666667\n"
     ]
    }
   ],
   "source": [
    "#row scaling\n",
    "#svm classification\n",
    "train_data = preprocessing.scale(train_attribs, axis=1)\n",
    "\n",
    "#means = np.mean(train_cnn,axis=1)\n",
    "#stds = np.std(train_cnn,axis=1)\n",
    "#test_cnn = (test_cnn - means[None,:])/ stds[None,:]\n",
    "\n",
    "from sklearn import linear_model, svm\n",
    "from sklearn.cross_validation import KFold\n",
    "\n",
    "svm_accuracy = []\n",
    "for train, test in  KFold(len(train_data),n_folds=5):\n",
    "    X_train,Y_train, X_test,Y_test = train_data[train],train_labels[train],train_data[test],train_labels[test]\n",
    "    score = svm.SVC(kernel='linear').fit(X_train,Y_train).score(X_test,Y_test)\n",
    "    svm_accuracy.append(score)\n",
    "    print score\n",
    "    #break\n",
    "print svm_accuracy, \"mean: \", np.mean(svm_accuracy)"
   ]
  },
  {
   "cell_type": "code",
   "execution_count": 20,
   "metadata": {
    "collapsed": false
   },
   "outputs": [
    {
     "name": "stdout",
     "output_type": "stream",
     "text": [
      "0.268333333333\n",
      "0.258333333333\n",
      "0.276666666667\n",
      "0.236666666667\n",
      "0.255\n",
      "[0.26833333333333331, 0.25833333333333336, 0.27666666666666667, 0.23666666666666666, 0.255] mean:  0.259\n"
     ]
    }
   ],
   "source": [
    "#column scaling\n",
    "#svm classification\n",
    "train_data = preprocessing.scale(train_attribs, axis=0)\n",
    "\n",
    "#means = np.mean(train_cnn,axis=1)\n",
    "#stds = np.std(train_cnn,axis=1)\n",
    "#test_cnn = (test_cnn - means[None,:])/ stds[None,:]\n",
    "\n",
    "from sklearn import linear_model, svm\n",
    "from sklearn.cross_validation import KFold\n",
    "\n",
    "svm_accuracy = []\n",
    "for train, test in  KFold(len(train_data),n_folds=5):\n",
    "    X_train,Y_train, X_test,Y_test = train_data[train],train_labels[train],train_data[test],train_labels[test]\n",
    "    score = svm.SVC(kernel='linear').fit(X_train,Y_train).score(X_test,Y_test)\n",
    "    svm_accuracy.append(score)\n",
    "    print score\n",
    "    #reak\n",
    "print svm_accuracy, \"mean: \", np.mean(svm_accuracy)"
   ]
  },
  {
   "cell_type": "code",
   "execution_count": 24,
   "metadata": {
    "collapsed": false
   },
   "outputs": [
    {
     "name": "stdout",
     "output_type": "stream",
     "text": [
      "0.258333333333\n",
      "0.246666666667\n",
      "0.263333333333\n",
      "0.251666666667\n",
      "0.268333333333\n",
      "[0.25833333333333336, 0.24666666666666667, 0.26333333333333331, 0.25166666666666665, 0.26833333333333331] mean:  0.257666666667\n"
     ]
    }
   ],
   "source": [
    "\n",
    "from sklearn import linear_model, svm\n",
    "from sklearn.cross_validation import KFold\n",
    "\n",
    "svm_accuracy = []\n",
    "for train, test in  KFold(len(train_attribs),n_folds=5):\n",
    "    X_train,Y_train, X_test,Y_test = train_attribs[train],train_labels[train],train_attribs[test],train_labels[test]\n",
    "    score = svm.SVC(kernel='linear').fit(X_train,Y_train).score(X_test,Y_test)\n",
    "    svm_accuracy.append(score)\n",
    "    print score\n",
    "    #break\n",
    "print svm_accuracy, \"mean: \", np.mean(svm_accuracy)"
   ]
  },
  {
   "cell_type": "code",
   "execution_count": null,
   "metadata": {
    "collapsed": true
   },
   "outputs": [],
   "source": []
  }
 ],
 "metadata": {
  "kernelspec": {
   "display_name": "Python 2",
   "language": "python",
   "name": "python2"
  },
  "language_info": {
   "codemirror_mode": {
    "name": "ipython",
    "version": 2
   },
   "file_extension": ".py",
   "mimetype": "text/x-python",
   "name": "python",
   "nbconvert_exporter": "python",
   "pygments_lexer": "ipython2",
   "version": "2.7.10"
  }
 },
 "nbformat": 4,
 "nbformat_minor": 0
}
