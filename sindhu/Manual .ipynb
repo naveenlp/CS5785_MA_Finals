{
 "cells": [
  {
   "cell_type": "code",
   "execution_count": 1,
   "metadata": {
    "collapsed": true
   },
   "outputs": [],
   "source": [
    "%matplotlib inline\n",
    "import numpy as np"
   ]
  },
  {
   "cell_type": "code",
   "execution_count": 2,
   "metadata": {
    "collapsed": true
   },
   "outputs": [],
   "source": [
    "train_bow = np.load(\"CS5785-final-data/SIFTBoW_train.npy\")\n",
    "train_labels = np.genfromtxt(\"CS5785-final-data/train.txt\",dtype=None)\n",
    "train_labels = train_labels[:,1]"
   ]
  },
  {
   "cell_type": "code",
   "execution_count": 3,
   "metadata": {
    "collapsed": false
   },
   "outputs": [
    {
     "name": "stdout",
     "output_type": "stream",
     "text": [
      "[15 15 15 15 15 15 15 15 15 15 15 15 15 15 15 15 15 15 15 15 15 15 15 15 15\n",
      " 15 15 15 15 15 15 15 15 15 15 15 15 15 15 15 15 15 15 15 15 15 15 15 15 15\n",
      " 15 15 15 15 15 15 15 15 15 15 15 15 15 15 15 15 15 15 15 15 15 15 15 15 15\n",
      " 15 15 15 15 15 15 15 15 15 15 15 15 15 15 15 15 15 15 15 15 15 15 15 15 15\n",
      " 15 15 15 15 15 15 15 15 15 15 15 15 15 15 15 15 15 15 15 15 15 15 15 15 15\n",
      " 15 15 15 15 15 15 15 15 15 15 15 15 15 15 15 15 15 15 15 15 15 15 15 15 15\n",
      " 15 15 15 15 15 15 15 15 15 15 15 15 15 15 15 15 15 15 15 15 15 15 15 15 15\n",
      " 15 15 15 15 15 15 15 15 15 15 15 15 15 15 15 15 15 15 15 15 15 15 15 15 15]\n"
     ]
    }
   ],
   "source": [
    "labels,counts = np.unique(train_labels,return_counts=True)\n",
    "print counts"
   ]
  },
  {
   "cell_type": "code",
   "execution_count": 4,
   "metadata": {
    "collapsed": false
   },
   "outputs": [
    {
     "name": "stdout",
     "output_type": "stream",
     "text": [
      "(3000, 4096)\n",
      "[ 0.          0.18709373  0.23874739 ...,  0.          0.18987797\n",
      "  0.22141679]\n",
      "[ 0.13750186  0.1690537   0.13164156 ...,  0.04393534  0.12083447\n",
      "  0.12772153]\n",
      "[ 0.01006944  0.01027454  0.01350796 ...,  0.00693112  0.01031864\n",
      "  0.00913155]\n"
     ]
    }
   ],
   "source": [
    "print train_bow.shape\n",
    "print train_bow[0,:]\n",
    "print np.mean(train_bow,axis=0)\n",
    "print np.var(train_bow,axis=0)"
   ]
  },
  {
   "cell_type": "code",
   "execution_count": 13,
   "metadata": {
    "collapsed": true
   },
   "outputs": [],
   "source": [
    "\n",
    "from sklearn import linear_model, svm, cross_validation\n",
    "\n",
    "X_train, X_test, y_train, y_test = cross_validation.train_test_split(train_bow, train_labels)\n",
    "lr_bow = linear_model.LogisticRegression().fit(X_train,y_train).score(X_test,y_test)\n",
    "svm_bow = svm.LinearSVC(-).fit(X_train,y_train).score(X_test,y_test)"
   ]
  },
  {
   "cell_type": "code",
   "execution_count": 14,
   "metadata": {
    "collapsed": false
   },
   "outputs": [
    {
     "name": "stdout",
     "output_type": "stream",
     "text": [
      "0.125333333333\n",
      "0.109333333333\n"
     ]
    }
   ],
   "source": [
    "print lr_bow\n",
    "print svm_bow"
   ]
  },
  {
   "cell_type": "code",
   "execution_count": 29,
   "metadata": {
    "collapsed": false
   },
   "outputs": [
    {
     "name": "stdout",
     "output_type": "stream",
     "text": [
      "[[ 1.0060357  -1.20678707  0.45890793 ..., -0.17247156 -0.13027663\n",
      "   0.22262002]\n",
      " [ 1.75801505  1.26570206  0.29001683 ...,  0.08554627  0.13572114\n",
      "  -0.04661329]\n",
      " [ 0.48155703  0.3597934  -0.08591375 ..., -0.27927704  0.09886455\n",
      "  -0.01523277]\n",
      " ..., \n",
      " [-2.12103493  0.80363994  0.85709286 ..., -0.14613091 -0.14313545\n",
      "   0.23384699]\n",
      " [ 0.36317955 -1.04285522  0.63138588 ..., -0.01439992 -0.12463945\n",
      "   0.29939322]\n",
      " [ 0.17832326 -0.31395651  1.75016041 ...,  0.03628267 -0.06827455\n",
      "  -0.15201111]]\n"
     ]
    }
   ],
   "source": [
    "from sklearn.decomposition import PCA\n",
    "pca = PCA(n_components=500)\n",
    "PCA_bow = pca.fit_transform(train_bow)\n",
    "print PCA_bow"
   ]
  },
  {
   "cell_type": "code",
   "execution_count": null,
   "metadata": {
    "collapsed": true
   },
   "outputs": [],
   "source": [
    "print PCA_bow.shape"
   ]
  },
  {
   "cell_type": "code",
   "execution_count": 21,
   "metadata": {
    "collapsed": false
   },
   "outputs": [
    {
     "name": "stdout",
     "output_type": "stream",
     "text": [
      "[[-1.36321943  0.11741212  0.84954588 ..., -0.52727485  0.57909023\n",
      "   0.87517607]\n",
      " [ 1.16896095  0.47400183 -1.12948164 ..., -0.52727485  0.8695488\n",
      "   1.16802924]\n",
      " [ 0.69084321 -1.66710082  0.39582432 ...,  1.51488579  0.94347935\n",
      "  -1.33175812]\n",
      " ..., \n",
      " [ 0.7075562   0.20684035  1.50451059 ..., -0.52727485 -1.18228675\n",
      "   0.27100434]\n",
      " [ 0.62541541 -1.66710082  0.37564944 ..., -0.52727485 -1.18228675\n",
      "  -1.33175812]\n",
      " [ 0.24684844  1.18251258  0.61750009 ..., -0.52727485 -1.18228675\n",
      "  -1.33175812]]\n"
     ]
    }
   ],
   "source": [
    "from sklearn import preprocessing\n",
    "X_scale = preprocessing.scale(X)\n",
    "print X_scale"
   ]
  },
  {
   "cell_type": "code",
   "execution_count": 22,
   "metadata": {
    "collapsed": true
   },
   "outputs": [],
   "source": [
    "def norm_column_wise(arr): \n",
    "    return (arr-arr.min(0))/(arr.max(0)-arr.min(0))"
   ]
  },
  {
   "cell_type": "code",
   "execution_count": 23,
   "metadata": {
    "collapsed": false
   },
   "outputs": [
    {
     "name": "stdout",
     "output_type": "stream",
     "text": [
      "[[ 0.          0.49546032  0.50994161 ...,  0.          0.58326626\n",
      "   0.64275008]\n",
      " [ 0.64396352  0.59446551  0.         ...,  0.          0.67944935\n",
      "   0.72804097]\n",
      " [ 0.5223725   0.          0.39302989 ...,  0.49283629  0.70393088  0.        ]\n",
      " ..., \n",
      " [ 0.52662282  0.52028958  0.67870821 ...,  0.          0.          0.4667904 ]\n",
      " [ 0.50573344  0.          0.38783137 ...,  0.          0.          0.        ]\n",
      " [ 0.40945937  0.79117967  0.45014971 ...,  0.          0.          0.        ]]\n"
     ]
    }
   ],
   "source": [
    "X = norm_column_wise(X_scale)\n",
    "print X"
   ]
  },
  {
   "cell_type": "code",
   "execution_count": 24,
   "metadata": {
    "collapsed": false
   },
   "outputs": [],
   "source": [
    "X_train, X_test, y_train, y_test = cross_validation.train_test_split(X, train_labels)\n",
    "lr_bow1 = linear_model.LogisticRegression().fit(X_train,y_train).score(X_test,y_test)\n",
    "svm_bow1 = svm.LinearSVC().fit(X_train,y_train).score(X_test,y_test)"
   ]
  },
  {
   "cell_type": "code",
   "execution_count": 25,
   "metadata": {
    "collapsed": false,
    "scrolled": true
   },
   "outputs": [
    {
     "name": "stdout",
     "output_type": "stream",
     "text": [
      "0.112\n",
      "0.105333333333\n"
     ]
    }
   ],
   "source": [
    "print lr_bow1\n",
    "print svm_bow1"
   ]
  },
  {
   "cell_type": "code",
   "execution_count": 26,
   "metadata": {
    "collapsed": false
   },
   "outputs": [
    {
     "name": "stdout",
     "output_type": "stream",
     "text": [
      "[[ 0.          0.0203606   0.02598185 ...,  0.          0.0206636\n",
      "   0.02409583]\n",
      " [ 0.02875689  0.02442915  0.         ...,  0.          0.02407112\n",
      "   0.02729327]\n",
      " [ 0.02332711  0.          0.02002512 ...,  0.01902905  0.02493843  0.        ]\n",
      " ..., \n",
      " [ 0.02351691  0.02138094  0.03458061 ...,  0.          0.          0.01749934]\n",
      " [ 0.02258407  0.          0.01976025 ...,  0.          0.          0.        ]\n",
      " [ 0.01828485  0.03251299  0.02293541 ...,  0.          0.          0.        ]]\n"
     ]
    }
   ],
   "source": [
    "from sklearn import preprocessing\n",
    "\n",
    "X = preprocessing.normalize(train_bow,norm='l2')\n",
    "print X"
   ]
  },
  {
   "cell_type": "code",
   "execution_count": 11,
   "metadata": {
    "collapsed": true
   },
   "outputs": [],
   "source": [
    "X_train, X_test, y_train, y_test = cross_validation.train_test_split(X, train_labels)\n",
    "lr_bow = linear_model.LogisticRegression().fit(X_train,y_train).score(X_test,y_test)\n",
    "svm_bow = svm.LinearSVC().fit(X_train,y_train).score(X_test,y_test)"
   ]
  },
  {
   "cell_type": "code",
   "execution_count": 12,
   "metadata": {
    "collapsed": false
   },
   "outputs": [
    {
     "name": "stdout",
     "output_type": "stream",
     "text": [
      "0.0453333333333\n",
      "0.113333333333\n"
     ]
    }
   ],
   "source": [
    "print lr_bow\n",
    "print svm_bow"
   ]
  },
  {
   "cell_type": "code",
   "execution_count": null,
   "metadata": {
    "collapsed": true
   },
   "outputs": [],
   "source": []
  }
 ],
 "metadata": {
  "kernelspec": {
   "display_name": "Python 2",
   "language": "python",
   "name": "python2"
  },
  "language_info": {
   "codemirror_mode": {
    "name": "ipython",
    "version": 2
   },
   "file_extension": ".py",
   "mimetype": "text/x-python",
   "name": "python",
   "nbconvert_exporter": "python",
   "pygments_lexer": "ipython2",
   "version": "2.7.10"
  }
 },
 "nbformat": 4,
 "nbformat_minor": 0
}
