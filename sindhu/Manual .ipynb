{
 "cells": [
  {
   "cell_type": "code",
   "execution_count": 1,
   "metadata": {
    "collapsed": true
   },
   "outputs": [],
   "source": [
    "%matplotlib inline\n",
    "import numpy as np"
   ]
  },
  {
   "cell_type": "code",
   "execution_count": 2,
   "metadata": {
    "collapsed": true
   },
   "outputs": [],
   "source": [
    "train_bow = np.load(\"CS5785-final-data/SIFTBoW_train.npy\")\n",
    "train_labels = np.genfromtxt(\"CS5785-final-data/train.txt\",dtype=None)\n",
    "train_labels = train_labels[:,1]"
   ]
  },
  {
   "cell_type": "code",
   "execution_count": 3,
   "metadata": {
    "collapsed": false
   },
   "outputs": [
    {
     "name": "stdout",
     "output_type": "stream",
     "text": [
      "[15 15 15 15 15 15 15 15 15 15 15 15 15 15 15 15 15 15 15 15 15 15 15 15 15\n",
      " 15 15 15 15 15 15 15 15 15 15 15 15 15 15 15 15 15 15 15 15 15 15 15 15 15\n",
      " 15 15 15 15 15 15 15 15 15 15 15 15 15 15 15 15 15 15 15 15 15 15 15 15 15\n",
      " 15 15 15 15 15 15 15 15 15 15 15 15 15 15 15 15 15 15 15 15 15 15 15 15 15\n",
      " 15 15 15 15 15 15 15 15 15 15 15 15 15 15 15 15 15 15 15 15 15 15 15 15 15\n",
      " 15 15 15 15 15 15 15 15 15 15 15 15 15 15 15 15 15 15 15 15 15 15 15 15 15\n",
      " 15 15 15 15 15 15 15 15 15 15 15 15 15 15 15 15 15 15 15 15 15 15 15 15 15\n",
      " 15 15 15 15 15 15 15 15 15 15 15 15 15 15 15 15 15 15 15 15 15 15 15 15 15]\n"
     ]
    }
   ],
   "source": [
    "labels,counts = np.unique(train_labels,return_counts=True)\n",
    "print counts"
   ]
  },
  {
   "cell_type": "code",
   "execution_count": 4,
   "metadata": {
    "collapsed": false
   },
   "outputs": [
    {
     "name": "stdout",
     "output_type": "stream",
     "text": [
      "(3000, 4096)\n",
      "[ 0.          0.18709373  0.23874739 ...,  0.          0.18987797\n",
      "  0.22141679]\n",
      "[ 0.13750186  0.1690537   0.13164156 ...,  0.04393534  0.12083447\n",
      "  0.12772153]\n",
      "[ 0.01006944  0.01027454  0.01350796 ...,  0.00693112  0.01031864\n",
      "  0.00913155]\n"
     ]
    }
   ],
   "source": [
    "print train_bow.shape\n",
    "print train_bow[0,:]\n",
    "print np.mean(train_bow,axis=0)\n",
    "print np.var(train_bow,axis=0)"
   ]
  },
  {
   "cell_type": "code",
   "execution_count": 7,
   "metadata": {
    "collapsed": true
   },
   "outputs": [],
   "source": [
    "\n",
    "from sklearn import linear_model, svm, cross_validation\n",
    "\n",
    "X_train, X_test, y_train, y_test = cross_validation.train_test_split(train_bow, train_labels)\n",
    "lr_bow = linear_model.LogisticRegression().fit(X_train,y_train).score(X_test,y_test)\n",
    "svm_bow = svm.LinearSVC().fit(X_train,y_train).score(X_test,y_test)"
   ]
  },
  {
   "cell_type": "code",
   "execution_count": 8,
   "metadata": {
    "collapsed": false
   },
   "outputs": [
    {
     "name": "stdout",
     "output_type": "stream",
     "text": [
      "0.122666666667\n",
      "0.105333333333\n"
     ]
    }
   ],
   "source": [
    "print lr_bow\n",
    "print svm_bow"
   ]
  },
  {
   "cell_type": "code",
   "execution_count": 10,
   "metadata": {
    "collapsed": false
   },
   "outputs": [
    {
     "name": "stdout",
     "output_type": "stream",
     "text": [
      "[[ 0.          0.0203606   0.02598185 ...,  0.          0.0206636\n",
      "   0.02409583]\n",
      " [ 0.02875689  0.02442915  0.         ...,  0.          0.02407112\n",
      "   0.02729327]\n",
      " [ 0.02332711  0.          0.02002512 ...,  0.01902905  0.02493843  0.        ]\n",
      " ..., \n",
      " [ 0.02351691  0.02138094  0.03458061 ...,  0.          0.          0.01749934]\n",
      " [ 0.02258407  0.          0.01976025 ...,  0.          0.          0.        ]\n",
      " [ 0.01828485  0.03251299  0.02293541 ...,  0.          0.          0.        ]]\n"
     ]
    }
   ],
   "source": [
    "from sklearn import preprocessing\n",
    "\n",
    "X = preprocessing.normalize(train_bow,norm='l2')\n",
    "print X"
   ]
  },
  {
   "cell_type": "code",
   "execution_count": 11,
   "metadata": {
    "collapsed": true
   },
   "outputs": [],
   "source": [
    "X_train, X_test, y_train, y_test = cross_validation.train_test_split(X, train_labels)\n",
    "lr_bow = linear_model.LogisticRegression().fit(X_train,y_train).score(X_test,y_test)\n",
    "svm_bow = svm.LinearSVC().fit(X_train,y_train).score(X_test,y_test)"
   ]
  },
  {
   "cell_type": "code",
   "execution_count": 12,
   "metadata": {
    "collapsed": false
   },
   "outputs": [
    {
     "name": "stdout",
     "output_type": "stream",
     "text": [
      "0.0453333333333\n",
      "0.113333333333\n"
     ]
    }
   ],
   "source": [
    "print lr_bow\n",
    "print svm_bow"
   ]
  },
  {
   "cell_type": "code",
   "execution_count": null,
   "metadata": {
    "collapsed": true
   },
   "outputs": [],
   "source": []
  }
 ],
 "metadata": {
  "kernelspec": {
   "display_name": "Python 2",
   "language": "python",
   "name": "python2"
  },
  "language_info": {
   "codemirror_mode": {
    "name": "ipython",
    "version": 2
   },
   "file_extension": ".py",
   "mimetype": "text/x-python",
   "name": "python",
   "nbconvert_exporter": "python",
   "pygments_lexer": "ipython2",
   "version": "2.7.10"
  }
 },
 "nbformat": 4,
 "nbformat_minor": 0
}
