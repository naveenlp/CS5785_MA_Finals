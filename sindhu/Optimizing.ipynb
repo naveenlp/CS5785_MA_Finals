{
 "cells": [
  {
   "cell_type": "code",
   "execution_count": 1,
   "metadata": {
    "collapsed": false
   },
   "outputs": [
    {
     "name": "stdout",
     "output_type": "stream",
     "text": [
      "[NbConvertApp] Converting notebook library.ipynb to python\n",
      "[NbConvertApp] Writing 2792 bytes to library.py\n"
     ]
    }
   ],
   "source": [
    "%run \"library.py\""
   ]
  },
  {
   "cell_type": "code",
   "execution_count": 2,
   "metadata": {
    "collapsed": true
   },
   "outputs": [],
   "source": [
    "from sklearn import preprocessing\n",
    "from sklearn.lda import LDA\n",
    "from sklearn import svm, cross_validation\n",
    "from sklearn.cross_validation import KFold\n",
    "from sklearn import linear_model, svm\n",
    "import numpy as np\n"
   ]
  },
  {
   "cell_type": "code",
   "execution_count": 3,
   "metadata": {
    "collapsed": false
   },
   "outputs": [
    {
     "name": "stdout",
     "output_type": "stream",
     "text": [
      "(2400,) (600,) 3000\n"
     ]
    }
   ],
   "source": [
    "train_indices, test_indices = [], []\n",
    "for train_index, test_index in KFold(len(train_cnn), n_folds=5):\n",
    "    train_indices = train_index\n",
    "    test_indices = test_index\n",
    "y_train, y_test = train_labels[train_indices], train_labels[test_indices]\n",
    "print train_indices.shape, test_indices.shape, len(train_cnn)"
   ]
  },
  {
   "cell_type": "markdown",
   "metadata": {},
   "source": [
    "## CNN"
   ]
  },
  {
   "cell_type": "code",
   "execution_count": 5,
   "metadata": {
    "collapsed": false
   },
   "outputs": [
    {
     "name": "stdout",
     "output_type": "stream",
     "text": [
      "0.373333333333\n"
     ]
    }
   ],
   "source": [
    "train_cnn_normalized = preprocessing.scale(train_cnn, axis=1)\n",
    "predictions_cnn, svmmodel_cnn, score_cnn = 0, 0, 0\n",
    "\n",
    "x_train_cnn, x_test_cnn = train_cnn_normalized[train_indices], train_cnn_normalized[test_indices]\n",
    "\n",
    "svmmodel_cnn = svm.SVC(kernel='linear', probability=True).fit(x_train_cnn,y_train) \n",
    "score_cnn = svmmodel_cnn.score(x_test_cnn,y_test) \n",
    "predictions_cnn = svmmodel_cnn.predict_proba(x_test_cnn) \n",
    "print score_cnn"
   ]
  },
  {
   "cell_type": "code",
   "execution_count": 6,
   "metadata": {
    "collapsed": false
   },
   "outputs": [],
   "source": [
    "#weighted predictions\n",
    "weight_cnn = 0.479657388\n",
    "weighted_predictions_cnn = weight_cnn*np.array(predictions_cnn)"
   ]
  },
  {
   "cell_type": "markdown",
   "metadata": {},
   "source": [
    "## BOW"
   ]
  },
  {
   "cell_type": "code",
   "execution_count": 7,
   "metadata": {
    "collapsed": false
   },
   "outputs": [
    {
     "name": "stdout",
     "output_type": "stream",
     "text": [
      "0.115\n"
     ]
    }
   ],
   "source": [
    "train_bow_normalized = preprocessing.scale(train_bow, axis=0)\n",
    "predictions_bow, svmmodel_bow, score_bow = 0, 0, 0\n",
    "\n",
    "x_train_bow, x_test_bow = train_bow_normalized[train_indices], train_bow_normalized[test_indices]\n",
    "\n",
    "svmmodel_bow = svm.SVC(kernel='linear', probability=True).fit(x_train_bow,y_train) \n",
    "score_bow = svmmodel_bow.score(x_test_bow,y_test) \n",
    "predictions_bow = svmmodel_bow.predict_proba(x_test_bow) \n",
    "print score_bow"
   ]
  },
  {
   "cell_type": "code",
   "execution_count": 8,
   "metadata": {
    "collapsed": false
   },
   "outputs": [],
   "source": [
    "#weighted predictions\n",
    "weight_bow = 0.147751606\n",
    "weighted_predictions_bow = weight_bow*np.array(predictions_bow)"
   ]
  },
  {
   "cell_type": "markdown",
   "metadata": {},
   "source": [
    "## ATTRIBS"
   ]
  },
  {
   "cell_type": "code",
   "execution_count": 9,
   "metadata": {
    "collapsed": false
   },
   "outputs": [
    {
     "name": "stdout",
     "output_type": "stream",
     "text": [
      "0.29\n"
     ]
    }
   ],
   "source": [
    "train_attribs_normalized = preprocessing.scale(train_attribs, axis=1)\n",
    "predictions_attribs, svmmodel_attribs, score_attribs = 0, 0, 0\n",
    "\n",
    "x_train_attribs, x_test_attribs = train_attribs_normalized[train_indices], train_attribs_normalized[test_indices]\n",
    "\n",
    "svmmodel_attribs = svm.SVC(kernel='poly',degree = 2, probability=True).fit(x_train_attribs,y_train) \n",
    "score_attribs = svmmodel_attribs.score(x_test_attribs,y_test) \n",
    "predictions_attribs = svmmodel_attribs.predict_proba(x_test_attribs) \n",
    "print score_attribs"
   ]
  },
  {
   "cell_type": "code",
   "execution_count": 10,
   "metadata": {
    "collapsed": false
   },
   "outputs": [],
   "source": [
    "#weighted predictions\n",
    "weight_attribs =0.372591006\n",
    "weighted_predictions_attribs = weight_attribs*np.array(predictions_attribs)"
   ]
  },
  {
   "cell_type": "markdown",
   "metadata": {},
   "source": [
    "## OVERALL"
   ]
  },
  {
   "cell_type": "code",
   "execution_count": 11,
   "metadata": {
    "collapsed": false
   },
   "outputs": [],
   "source": [
    "predictions_mean = ( weighted_predictions_cnn + weighted_predictions_bow + weighted_predictions_attribs ) / 3.0\n",
    "max_indices = np.argmax(predictions_mean,axis=1)\n",
    "predicted_classes = svmmodel_cnn.classes_[max_indices]"
   ]
  },
  {
   "cell_type": "code",
   "execution_count": 12,
   "metadata": {
    "collapsed": false
   },
   "outputs": [
    {
     "data": {
      "text/plain": [
       "0.43333333333333335"
      ]
     },
     "execution_count": 12,
     "metadata": {},
     "output_type": "execute_result"
    }
   ],
   "source": [
    "# overall score\n",
    "sum(predicted_classes == y_test)*1.0/len(y_test)"
   ]
  },
  {
   "cell_type": "code",
   "execution_count": 29,
   "metadata": {
    "collapsed": true
   },
   "outputs": [],
   "source": [
    "def get_score(wt):\n",
    "    wt_cnn = wt[0]\n",
    "    wt_bow = wt[1]\n",
    "    wt_attrib = wt[2]\n",
    "    predictions_mean = ( wpred(predictions_cnn,wt_cnn) + wpred(predictions_bow,wt_bow) + wpred(predictions_attribs,wt_attrib) ) / 3.0\n",
    "    max_indices = np.argmax(predictions_mean,axis=1)\n",
    "    predicted_classes = svmmodel_cnn.classes_[max_indices]\n",
    "    score = sum(predicted_classes == y_test)*1.0/len(y_test)\n",
    "    print score\n",
    "    return (1 - score)"
   ]
  },
  {
   "cell_type": "code",
   "execution_count": 47,
   "metadata": {
    "collapsed": false
   },
   "outputs": [
    {
     "data": {
      "text/plain": [
       "array([ 1.13996196,  0.21358706,  0.47390117])"
      ]
     },
     "execution_count": 47,
     "metadata": {},
     "output_type": "execute_result"
    }
   ],
   "source": [
    "res.x"
   ]
  },
  {
   "cell_type": "code",
   "execution_count": 46,
   "metadata": {
    "collapsed": false
   },
   "outputs": [
    {
     "name": "stdout",
     "output_type": "stream",
     "text": [
      "0.418333333333\n",
      "0.418333333333\n",
      "0.393333333333\n",
      "0.025\n",
      "0.418333333333\n",
      "0.136666666667\n",
      "0.418333333333\n",
      "0.418333333333\n",
      "0.411666666667\n",
      "0.415\n",
      "0.411666666667\n",
      "0.415\n",
      "0.418333333333\n",
      "0.416666666667\n",
      "0.418333333333\n",
      "0.418333333333\n",
      "0.418333333333\n",
      "0.418333333333\n",
      "0.338333333333\n",
      "0.358333333333\n",
      "0.418333333333\n",
      "0.42\n",
      "0.4\n",
      "0.423333333333\n",
      "0.421666666667\n",
      "0.423333333333\n",
      "0.426666666667\n",
      "0.426666666667\n",
      "0.426666666667\n",
      "0.425\n",
      "0.425\n",
      "0.425\n",
      "0.426666666667\n",
      "0.406666666667\n",
      "0.0783333333333\n",
      "0.426666666667\n",
      "0.23\n",
      "0.423333333333\n",
      "0.428333333333\n",
      "0.426666666667\n",
      "0.433333333333\n",
      "0.431666666667\n",
      "0.433333333333\n",
      "0.433333333333\n",
      "0.43\n",
      "0.433333333333\n",
      "0.431666666667\n",
      "0.433333333333\n",
      "0.42\n",
      "0.433333333333\n",
      "0.416666666667\n",
      "0.08\n",
      "0.433333333333\n",
      "0.296666666667\n",
      "0.433333333333\n",
      "0.423333333333\n",
      "0.428333333333\n",
      "0.433333333333\n",
      "0.433333333333\n",
      "0.435\n",
      "0.431666666667\n",
      "0.433333333333\n",
      "0.433333333333\n",
      "0.433333333333\n",
      "0.435\n",
      "0.405\n",
      "0.393333333333\n",
      "0.435\n",
      "0.421666666667\n",
      "0.431666666667\n",
      "0.431666666667\n",
      "0.426666666667\n",
      "0.43\n",
      "0.431666666667\n",
      "0.435\n",
      "0.435\n",
      "0.435\n",
      "0.435\n",
      "0.435\n",
      "0.435\n",
      "0.435\n",
      "0.435\n",
      "0.435\n",
      "0.435\n",
      "0.435\n",
      "0.435\n",
      "0.435\n",
      "0.435\n",
      "0.435\n",
      "0.435\n",
      "0.435\n",
      "0.435\n",
      "0.435\n",
      "0.435\n",
      "0.435\n",
      "0.435\n",
      "0.435\n",
      "0.435\n",
      "0.435\n",
      "0.435\n",
      "0.435\n",
      "0.435\n",
      "0.435\n",
      "0.435\n",
      "0.435\n",
      "0.435\n",
      "0.435\n",
      "0.435\n",
      "0.435\n",
      "0.435\n",
      "0.435\n",
      "0.435\n",
      "0.435\n",
      "0.435\n",
      "0.435\n",
      "0.435\n",
      "0.435\n",
      "0.426666666667\n",
      "0.2\n",
      "0.435\n",
      "0.318333333333\n",
      "0.43\n",
      "0.425\n",
      "0.403333333333\n",
      "0.42\n",
      "0.433333333333\n",
      "0.428333333333\n",
      "0.435\n",
      "0.433333333333\n",
      "0.433333333333\n",
      "0.433333333333\n",
      "0.435\n",
      "0.433333333333\n",
      "0.435\n",
      "0.435\n",
      "0.435\n",
      "0.435\n",
      "0.435\n",
      "0.416666666667\n",
      "0.435\n",
      "0.416666666667\n",
      "0.153333333333\n",
      "0.435\n",
      "0.43\n",
      "0.421666666667\n",
      "0.426666666667\n",
      "0.426666666667\n",
      "0.433333333333\n",
      "0.431666666667\n",
      "0.433333333333\n",
      "0.433333333333\n",
      "0.435\n",
      "0.435\n",
      "0.435\n",
      "0.435\n",
      "0.435\n",
      "0.435\n",
      "0.435\n",
      "0.435\n",
      "0.435\n",
      "0.435\n",
      "0.406666666667\n",
      "0.396666666667\n",
      "0.435\n",
      "0.42\n",
      "0.433333333333\n",
      "0.435\n",
      "0.435\n",
      "0.433333333333\n",
      "0.435\n",
      "0.433333333333\n",
      "0.435\n",
      "0.435\n",
      "0.435\n",
      "0.435\n",
      "0.435\n",
      "0.435\n",
      "0.435\n",
      "0.435\n",
      "0.425\n",
      "0.198333333333\n",
      "0.435\n",
      "0.323333333333\n",
      "0.433333333333\n",
      "0.425\n",
      "0.405\n",
      "0.428333333333\n",
      "0.431666666667\n",
      "0.431666666667\n",
      "0.433333333333\n",
      "0.433333333333\n",
      "0.433333333333\n",
      "0.435\n",
      "0.435\n",
      "0.435\n",
      "0.435\n",
      "0.435\n",
      "0.435\n",
      "0.435\n",
      "0.435\n",
      "0.435\n"
     ]
    }
   ],
   "source": [
    "\n",
    "from scipy.optimize import minimize\n",
    "\n",
    "#x0 = [0.496763484,0.167026471,0.336210907]\n",
    "x0 = [0.39,0.42,0.19]\n",
    "# x0 = [0.43,0.47,0.1]\n",
    "res = minimize(get_score, x0, method='Powell')"
   ]
  },
  {
   "cell_type": "markdown",
   "metadata": {},
   "source": [
    "## ALL DATA AT ONCE"
   ]
  },
  {
   "cell_type": "code",
   "execution_count": 14,
   "metadata": {
    "collapsed": false
   },
   "outputs": [
    {
     "name": "stdout",
     "output_type": "stream",
     "text": [
      "0.355\n"
     ]
    }
   ],
   "source": [
    "train_all = np.hstack([train_cnn, train_bow, train_attribs])\n",
    "train_all_normalized = preprocessing.scale(train_all, axis=0)\n",
    "predictions_all, svmmodel_all, score_all = 0, 0, 0\n",
    "\n",
    "x_train_all, x_test_all = train_all_normalized[train_indices], train_all_normalized[test_indices]\n",
    "\n",
    "svmmodel_all = svm.SVC(kernel='linear', probability=True).fit(x_train_all,y_train) \n",
    "score_all = svmmodel_all.score(x_test_all,y_test) \n",
    "predictions_all = svmmodel_all.predict_proba(x_test_all) \n",
    "print score_all"
   ]
  },
  {
   "cell_type": "markdown",
   "metadata": {
    "collapsed": true
   },
   "source": [
    "## KAGGLE SUBMISSION"
   ]
  },
  {
   "cell_type": "code",
   "execution_count": 15,
   "metadata": {
    "collapsed": true
   },
   "outputs": [],
   "source": [
    "def svm_predictions_for(train_vals, test_vals, train_lbls, axs=1):\n",
    "    train_vals_normalized = preprocessing.scale(train_vals, axis=axs)\n",
    "    predictions_vals, svmmodel = 0, 0\n",
    "\n",
    "    svmmodel = svm.SVC(kernel='linear', probability=True).fit(train_vals,train_lbls) \n",
    "    predictions_vals = svmmodel.predict_proba(test_vals) \n",
    "    return predictions_vals, svmmodel"
   ]
  },
  {
   "cell_type": "code",
   "execution_count": 16,
   "metadata": {
    "collapsed": true
   },
   "outputs": [],
   "source": [
    "predictions_cnn_final, svm_cnn_final = svm_predictions_for(train_cnn, test_cnn, train_labels, axs=1)"
   ]
  },
  {
   "cell_type": "code",
   "execution_count": 17,
   "metadata": {
    "collapsed": true
   },
   "outputs": [],
   "source": [
    "predictions_bow_final, svm_bow_final = svm_predictions_for(train_bow, test_bow, train_labels, axs=0)"
   ]
  },
  {
   "cell_type": "code",
   "execution_count": 18,
   "metadata": {
    "collapsed": true
   },
   "outputs": [],
   "source": [
    "predictions_attribs_final, svm_attribs_final = svm_predictions_for(train_attribs, test_attribs, train_labels, axs=1)"
   ]
  },
  {
   "cell_type": "code",
   "execution_count": 19,
   "metadata": {
    "collapsed": false
   },
   "outputs": [
    {
     "name": "stdout",
     "output_type": "stream",
     "text": [
      "[['0000.jpg' 'soccer_field']\n",
      " ['0001.jpg' 'rubble']\n",
      " ['0002.jpg' 'junk_pile']\n",
      " ..., \n",
      " ['0997.jpg' 'reception']\n",
      " ['0998.jpg' 'cheese_factory']\n",
      " ['0999.jpg' 'pasture']]\n"
     ]
    }
   ],
   "source": [
    "def wpred(predictions, wt):\n",
    "    return wt*np.array(predictions)\n",
    "\n",
    "predictions_mean_final = ( wpred(predictions_cnn_final,0.479657388) + wpred(predictions_bow_final,0.147751606) + wpred(predictions_attribs_final,0.372591006) ) / 3.0\n",
    "max_indices_final = np.argmax(predictions_mean_final,axis=1)\n",
    "predicted_classes_final = svm_cnn_final.classes_[max_indices_final]\n",
    "kaggle_output(predicted_classes_final)"
   ]
  },
  {
   "cell_type": "code",
   "execution_count": null,
   "metadata": {
    "collapsed": true
   },
   "outputs": [],
   "source": []
  }
 ],
 "metadata": {
  "kernelspec": {
   "display_name": "Python 2",
   "language": "python",
   "name": "python2"
  },
  "language_info": {
   "codemirror_mode": {
    "name": "ipython",
    "version": 2
   },
   "file_extension": ".py",
   "mimetype": "text/x-python",
   "name": "python",
   "nbconvert_exporter": "python",
   "pygments_lexer": "ipython2",
   "version": "2.7.10"
  }
 },
 "nbformat": 4,
 "nbformat_minor": 0
}
