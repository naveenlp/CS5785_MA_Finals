{
 "cells": [
  {
   "cell_type": "code",
   "execution_count": null,
   "metadata": {
    "collapsed": false
   },
   "outputs": [],
   "source": [
    "%run \"../library.py\""
   ]
  },
  {
   "cell_type": "code",
   "execution_count": 54,
   "metadata": {
    "collapsed": false
   },
   "outputs": [],
   "source": [
    "from sklearn import preprocessing\n",
    "from collections import Counter"
   ]
  },
  {
   "cell_type": "code",
   "execution_count": 67,
   "metadata": {
    "collapsed": false
   },
   "outputs": [],
   "source": [
    "cluster_train = preprocessing.normalize(np.hstack([train_cnn,train_bow]), axis=0)\n",
    "cluster_tenk = preprocessing.normalize(np.hstack([tenk_cnn,tenk_bow]), axis=0)"
   ]
  },
  {
   "cell_type": "code",
   "execution_count": 68,
   "metadata": {
    "collapsed": false
   },
   "outputs": [],
   "source": [
    "# spectral clustering\n",
    "from sklearn import cluster\n",
    "\n",
    "spectral = cluster.SpectralClustering(n_clusters=200)\n",
    "spectral_output = spectral.fit(cluster_train)\n",
    "spectral_labels = spectral_output.labels_\n",
    "spectral_output_names = get_names_for_clusters(spectral_labels)"
   ]
  },
  {
   "cell_type": "code",
   "execution_count": 57,
   "metadata": {
    "collapsed": false
   },
   "outputs": [],
   "source": [
    "def most_common(lst):\n",
    "    data = Counter(lst)\n",
    "    return data.most_common(1)[0][0]\n",
    "\n",
    "def get_names_for_clusters(output_vals):\n",
    "    labels = []\n",
    "    for cluster_val in np.unique(output_vals):\n",
    "        labels.append(most_common(train_labels[np.where(output_vals == cluster_val)[0]]))\n",
    "    return labels    "
   ]
  },
  {
   "cell_type": "code",
   "execution_count": 70,
   "metadata": {
    "collapsed": false
   },
   "outputs": [
    {
     "data": {
      "text/plain": [
       "0.27400000000000002"
      ]
     },
     "execution_count": 70,
     "metadata": {},
     "output_type": "execute_result"
    }
   ],
   "source": [
    "# determine accuracy\n",
    "clustered_names = []\n",
    "for output in spectral_labels:\n",
    "    clustered_names.append(spectral_output_names[output])\n",
    "np.sum(clustered_names == train_labels)*1.0/len(train_labels)"
   ]
  },
  {
   "cell_type": "code",
   "execution_count": 30,
   "metadata": {
    "collapsed": false
   },
   "outputs": [
    {
     "data": {
      "text/plain": [
       "'closet'"
      ]
     },
     "execution_count": 30,
     "metadata": {},
     "output_type": "execute_result"
    }
   ],
   "source": [
    "# cluster_labels = \n",
    "most_common(cluster_labels)"
   ]
  },
  {
   "cell_type": "code",
   "execution_count": null,
   "metadata": {
    "collapsed": false
   },
   "outputs": [],
   "source": [
    "# https://code.google.com/p/scipy-cluster/\n",
    "# https://www.youtube.com/watch?v=qUQf1JxnTnY\n",
    "# https://github.com/scikit-fuzzy/scikit-fuzzy\n",
    "\n",
    "import skfuzzy as fuzz\n",
    "cntr, u, u0, d, jm, p, fpc = fuzz.cluster.cmeans(cluster_train[0:500], 200, 2, error=0.005, maxiter=1000, init=None)"
   ]
  },
  {
   "cell_type": "code",
   "execution_count": 74,
   "metadata": {
    "collapsed": false
   },
   "outputs": [
    {
     "data": {
      "text/plain": [
       "array([[ 0.22498016,  0.27125555,  0.23426149, ...,  0.23156785,\n",
       "         0.23872506,  0.23893277],\n",
       "       [ 0.22484702,  0.27107127,  0.23439859, ...,  0.23205548,\n",
       "         0.23921513,  0.23942175],\n",
       "       [ 0.22499723,  0.27127915,  0.23424406, ...,  0.23150562,\n",
       "         0.23866252,  0.23887037],\n",
       "       ..., \n",
       "       [ 0.2248415 ,  0.27106364,  0.23440431, ...,  0.23207576,\n",
       "         0.23923551,  0.23944208],\n",
       "       [ 0.22485153,  0.27107752,  0.23439391, ...,  0.23203888,\n",
       "         0.23919845,  0.2394051 ],\n",
       "       [ 0.22484978,  0.27107509,  0.23439573, ...,  0.23204535,\n",
       "         0.23920494,  0.23941158]])"
      ]
     },
     "execution_count": 74,
     "metadata": {},
     "output_type": "execute_result"
    }
   ],
   "source": [
    "d"
   ]
  }
 ],
 "metadata": {
  "kernelspec": {
   "display_name": "Python 2",
   "language": "python",
   "name": "python2"
  },
  "language_info": {
   "codemirror_mode": {
    "name": "ipython",
    "version": 2
   },
   "file_extension": ".py",
   "mimetype": "text/x-python",
   "name": "python",
   "nbconvert_exporter": "python",
   "pygments_lexer": "ipython2",
   "version": "2.7.10"
  }
 },
 "nbformat": 4,
 "nbformat_minor": 0
}
