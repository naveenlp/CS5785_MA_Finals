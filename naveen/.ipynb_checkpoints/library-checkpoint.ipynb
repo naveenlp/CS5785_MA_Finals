{
 "cells": [
  {
   "cell_type": "code",
   "execution_count": 36,
   "metadata": {
    "collapsed": false
   },
   "outputs": [],
   "source": [
    "%matplotlib inline\n",
    "import numpy as np\n",
    "from PIL import Image\n",
    "\n",
    "# READ IN DATA AND STORE IN VARIABLES\n",
    "\n",
    "# training data\n",
    "train_cnn = np.load(\"../CS5785-final-data/alexnet_feat_train.npy\")\n",
    "train_bow = np.load(\"../CS5785-final-data/SIFTBoW_train.npy\")\n",
    "train_labels = np.genfromtxt(\"../CS5785-final-data/train.txt\",dtype=None)\n",
    "train_filenames = train_labels[:,0]\n",
    "train_labels = train_labels[:,1]\n",
    "train_attribs = np.genfromtxt(\"../CS5785-final-data/attributes_train.txt\",dtype=None)[:,1]\n",
    "\n",
    "# testing data\n",
    "test_cnn = np.load(\"../CS5785-final-data/alexnet_feat_test.npy\")\n",
    "test_bow = np.load(\"../CS5785-final-data/SIFTBoW_test.npy\")\n",
    "test_filenames = np.genfromtxt(\"../CS5785-final-data/test.txt\",dtype=None)\n",
    "test_attribs = np.genfromtxt(\"../CS5785-final-data/attributes_test.txt\",dtype=None)[:,1]\n",
    "\n",
    "# 10k data\n",
    "tenk_cnn = np.load(\"../CS5785-final-data/alexnet_feat_10k.npy\")\n",
    "tenk_bow = np.load(\"../CS5785-final-data/SIFTBoW_10k.npy\")\n",
    "tenk_filenames = np.genfromtxt(\"../CS5785-final-data/10k_list.txt\",dtype=None)\n",
    "\n",
    "# metadata\n",
    "attribute_values = [line.rstrip().replace(\"'\", \"\") for line in open('../CS5785-final-data/attributes_list.txt')]\n"
   ]
  },
  {
   "cell_type": "code",
   "execution_count": 48,
   "metadata": {
    "collapsed": true
   },
   "outputs": [],
   "source": [
    "# HELPER METHODS\n",
    "def get_filename(index, datatype = \"train\"):\n",
    "    if(datatype == \"train\"):\n",
    "        name = train_filenames[index]\n",
    "    elif (datatype == \"test\"):\n",
    "        name = test_filenames[index]\n",
    "    else:\n",
    "        name = tenk_filenames[index]\n",
    "    return name\n",
    "\n",
    "def display_image(filename, datatype = \"train\"):\n",
    "    if((datatype == \"train\") or (datatype == \"test\")):\n",
    "        path = '../CS5785-final-data/images/' + datatype + '/' + filename\n",
    "    else:\n",
    "        path = '../CS5785-final-data/10k_images/' + filename\n",
    "        \n",
    "    im = Image.open(path)\n",
    "    size = 200,180\n",
    "    imt = im.convert('RGB')\n",
    "    imt.thumbnail(size, Image.ANTIALIAS)\n",
    "    return imt\n",
    "\n",
    "# sample call\n",
    "# display_image(get_filename(8, 'att'), 'att')\n",
    "\n",
    "def kaggle_output(outputs):\n",
    "    kaggle_output = np.vstack([test_filenames,outputs]).transpose()\n",
    "    print kaggle_output\n",
    "    np.savetxt(\"../kaggle_output.csv\", kaggle_output, delimiter=\",\", header=\"ID,Category\", comments='', fmt=\"%s\")\n"
   ]
  },
  {
   "cell_type": "code",
   "execution_count": 2,
   "metadata": {
    "collapsed": false
   },
   "outputs": [
    {
     "name": "stdout",
     "output_type": "stream",
     "text": [
      "[NbConvertApp] Converting notebook final_exam.ipynb to python\n",
      "[NbConvertApp] Writing 2613 bytes to final_exam.py\n"
     ]
    }
   ],
   "source": [
    "'''\n",
    "10k_images -> DONE\n",
    "10k_images.zip -> DONE\n",
    "10k_list.txt -> DONE\n",
    "alexnet_feat_10k.npy -> DONE\n",
    "alexnet_feat_test.npy -> DONE\n",
    "alexnet_feat_train.npy -> DONE\n",
    "attributes_list.txt -> DONE\n",
    "attributes_test.txt -> DONE\n",
    "attributes_train.txt -> DONE\n",
    "captions.json\n",
    "images -> DONE\n",
    "images.zip -> DONE\n",
    "sampleSubmission.csv -> DONE\n",
    "SIFTBoW_10k.npy -> DONE\n",
    "SIFTBoW_test.npy -> DONE\n",
    "SIFTBoW_train.npy -> DONE\n",
    "test.txt -> DONE\n",
    "train.txt -> DONE\n",
    "'''\n",
    "\n",
    "# def generate_kaggle_csv():\n",
    "!ipython nbconvert --to=python final_exam.ipynb"
   ]
  }
 ],
 "metadata": {
  "kernelspec": {
   "display_name": "Python 2",
   "language": "python",
   "name": "python2"
  },
  "language_info": {
   "codemirror_mode": {
    "name": "ipython",
    "version": 2
   },
   "file_extension": ".py",
   "mimetype": "text/x-python",
   "name": "python",
   "nbconvert_exporter": "python",
   "pygments_lexer": "ipython2",
   "version": "2.7.10"
  }
 },
 "nbformat": 4,
 "nbformat_minor": 0
}
