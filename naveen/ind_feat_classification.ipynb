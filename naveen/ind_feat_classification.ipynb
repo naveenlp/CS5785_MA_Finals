{
 "cells": [
  {
   "cell_type": "code",
   "execution_count": null,
   "metadata": {
    "collapsed": false
   },
   "outputs": [],
   "source": [
    "%run \"../library.py\""
   ]
  },
  {
   "cell_type": "code",
   "execution_count": 7,
   "metadata": {
    "collapsed": true
   },
   "outputs": [],
   "source": [
    "from sklearn import preprocessing\n",
    "from sklearn.lda import LDA\n",
    "from sklearn import svm, cross_validation\n",
    "from sklearn.cross_validation import KFold\n",
    "from sklearn import linear_model, svm\n",
    "import numpy as np\n"
   ]
  },
  {
   "cell_type": "code",
   "execution_count": 5,
   "metadata": {
    "collapsed": false
   },
   "outputs": [
    {
     "name": "stdout",
     "output_type": "stream",
     "text": [
      "(2400,) (600,) 3000\n"
     ]
    }
   ],
   "source": [
    "train_indices, test_indices = [], []\n",
    "for train_index, test_index in KFold(len(train_cnn), n_folds=5):\n",
    "    train_indices = train_index\n",
    "    test_indices = test_index\n",
    "y_train, y_test = train_labels[train_indices], train_labels[test_indices]\n",
    "print train_indices.shape, test_indices.shape, len(train_cnn)"
   ]
  },
  {
   "cell_type": "markdown",
   "metadata": {},
   "source": [
    "## CNN"
   ]
  },
  {
   "cell_type": "code",
   "execution_count": 8,
   "metadata": {
    "collapsed": false
   },
   "outputs": [
    {
     "name": "stdout",
     "output_type": "stream",
     "text": [
      "0.373333333333\n"
     ]
    }
   ],
   "source": [
    "train_cnn_normalized = preprocessing.scale(train_cnn, axis=1)\n",
    "predictions_cnn, svmmodel_cnn, score_cnn = 0, 0, 0\n",
    "\n",
    "x_train_cnn, x_test_cnn = train_cnn_normalized[train_indices], train_cnn_normalized[test_indices]\n",
    "\n",
    "svmmodel_cnn = svm.SVC(kernel='linear', probability=True).fit(x_train_cnn,y_train) \n",
    "score_cnn = svmmodel_cnn.score(x_test_cnn,y_test) \n",
    "predictions_cnn = svmmodel_cnn.predict_proba(x_test_cnn) \n",
    "print score_cnn"
   ]
  },
  {
   "cell_type": "code",
   "execution_count": 22,
   "metadata": {
    "collapsed": false
   },
   "outputs": [],
   "source": [
    "#weighted predictions\n",
    "weight_cnn = 0.496763484\n",
    "weighted_predictions_cnn = weight_cnn*np.array(predictions_cnn)"
   ]
  },
  {
   "cell_type": "markdown",
   "metadata": {},
   "source": [
    "## BOW"
   ]
  },
  {
   "cell_type": "code",
   "execution_count": 35,
   "metadata": {
    "collapsed": false
   },
   "outputs": [
    {
     "name": "stdout",
     "output_type": "stream",
     "text": [
      "0.115\n"
     ]
    }
   ],
   "source": [
    "train_bow_normalized = preprocessing.scale(train_bow, axis=0)\n",
    "predictions_bow, svmmodel_bow, score_bow = 0, 0, 0\n",
    "\n",
    "x_train_bow, x_test_bow = train_bow_normalized[train_indices], train_bow_normalized[test_indices]\n",
    "\n",
    "svmmodel_bow = svm.SVC(kernel='linear', probability=True).fit(x_train_bow,y_train) \n",
    "score_bow = svmmodel_bow.score(x_test_bow,y_test) \n",
    "predictions_bow = svmmodel_bow.predict_proba(x_test_bow) \n",
    "print score_bow"
   ]
  },
  {
   "cell_type": "code",
   "execution_count": 21,
   "metadata": {
    "collapsed": false
   },
   "outputs": [],
   "source": [
    "#weighted predictions\n",
    "weight_bow = 0.167026471\n",
    "weighted_predictions_bow = weight_bow*np.array(predictions_bow)"
   ]
  },
  {
   "cell_type": "markdown",
   "metadata": {},
   "source": [
    "## ATTRIBS"
   ]
  },
  {
   "cell_type": "code",
   "execution_count": 23,
   "metadata": {
    "collapsed": false
   },
   "outputs": [
    {
     "name": "stdout",
     "output_type": "stream",
     "text": [
      "0.265\n"
     ]
    }
   ],
   "source": [
    "train_attribs_normalized = preprocessing.scale(train_attribs, axis=1)\n",
    "predictions_attribs, svmmodel_attribs, score_attribs = 0, 0, 0\n",
    "\n",
    "x_train_attribs, x_test_attribs = train_attribs_normalized[train_indices], train_attribs_normalized[test_indices]\n",
    "\n",
    "svmmodel_attribs = svm.SVC(kernel='linear', probability=True).fit(x_train_attribs,y_train) \n",
    "score_attribs = svmmodel_attribs.score(x_test_attribs,y_test) \n",
    "predictions_attribs = svmmodel_attribs.predict_proba(x_test_attribs) \n",
    "print score_attribs"
   ]
  },
  {
   "cell_type": "code",
   "execution_count": 25,
   "metadata": {
    "collapsed": false
   },
   "outputs": [],
   "source": [
    "#weighted predictions\n",
    "weight_attribs =0.336210907\n",
    "weighted_predictions_attribs = weight_attribs*np.array(predictions_attribs)"
   ]
  },
  {
   "cell_type": "markdown",
   "metadata": {},
   "source": [
    "## OVERALL"
   ]
  },
  {
   "cell_type": "code",
   "execution_count": 28,
   "metadata": {
    "collapsed": true
   },
   "outputs": [],
   "source": [
    "def get_score(wt):\n",
    "    wt_cnn = wt[0]\n",
    "    wt_bow = wt[1]\n",
    "    wt_attrib = wt[2]\n",
    "    predictions_mean = ( wpred(predictions_cnn_final,wt_cnn) + wpred(predictions_bow_final,wt_bow) + wpred(predictions_attribs_final,wt_attrib) ) / 3.0\n",
    "    max_indices = np.argmax(predictions_mean,axis=1)\n",
    "    predicted_classes = svmmodel_cnn.classes_[max_indices]\n",
    "    score = sum(predicted_classes == y_test)*1.0/len(y_test)\n",
    "    return (1 - score)"
   ]
  },
  {
   "cell_type": "code",
   "execution_count": 29,
   "metadata": {
    "collapsed": false
   },
   "outputs": [
    {
     "ename": "ValueError",
     "evalue": "shape mismatch: objects cannot be broadcast to a single shape",
     "output_type": "error",
     "traceback": [
      "\u001b[0;31m---------------------------------------------------------------------------\u001b[0m",
      "\u001b[0;31mValueError\u001b[0m                                Traceback (most recent call last)",
      "\u001b[0;32m<ipython-input-29-33b919be1570>\u001b[0m in \u001b[0;36m<module>\u001b[0;34m()\u001b[0m\n\u001b[1;32m      2\u001b[0m \u001b[0;34m\u001b[0m\u001b[0m\n\u001b[1;32m      3\u001b[0m \u001b[0mx0\u001b[0m \u001b[0;34m=\u001b[0m \u001b[0;34m[\u001b[0m\u001b[0;36m0.496763484\u001b[0m\u001b[0;34m,\u001b[0m\u001b[0;36m0.167026471\u001b[0m\u001b[0;34m,\u001b[0m\u001b[0;36m0.336210907\u001b[0m\u001b[0;34m]\u001b[0m\u001b[0;34m\u001b[0m\u001b[0m\n\u001b[0;32m----> 4\u001b[0;31m \u001b[0mres\u001b[0m \u001b[0;34m=\u001b[0m \u001b[0mminimize\u001b[0m\u001b[0;34m(\u001b[0m\u001b[0mget_score\u001b[0m\u001b[0;34m,\u001b[0m \u001b[0mx0\u001b[0m\u001b[0;34m,\u001b[0m \u001b[0mmethod\u001b[0m\u001b[0;34m=\u001b[0m\u001b[0;34m'Nelder-Mead'\u001b[0m\u001b[0;34m)\u001b[0m\u001b[0;34m\u001b[0m\u001b[0m\n\u001b[0m",
      "\u001b[0;32m/Users/2359media/anaconda/lib/python2.7/site-packages/scipy/optimize/_minimize.pyc\u001b[0m in \u001b[0;36mminimize\u001b[0;34m(fun, x0, args, method, jac, hess, hessp, bounds, constraints, tol, callback, options)\u001b[0m\n\u001b[1;32m    411\u001b[0m                       callback=callback, **options)\n\u001b[1;32m    412\u001b[0m     \u001b[0;32melif\u001b[0m \u001b[0mmeth\u001b[0m \u001b[0;34m==\u001b[0m \u001b[0;34m'nelder-mead'\u001b[0m\u001b[0;34m:\u001b[0m\u001b[0;34m\u001b[0m\u001b[0m\n\u001b[0;32m--> 413\u001b[0;31m         \u001b[0;32mreturn\u001b[0m \u001b[0m_minimize_neldermead\u001b[0m\u001b[0;34m(\u001b[0m\u001b[0mfun\u001b[0m\u001b[0;34m,\u001b[0m \u001b[0mx0\u001b[0m\u001b[0;34m,\u001b[0m \u001b[0margs\u001b[0m\u001b[0;34m,\u001b[0m \u001b[0mcallback\u001b[0m\u001b[0;34m,\u001b[0m \u001b[0;34m**\u001b[0m\u001b[0moptions\u001b[0m\u001b[0;34m)\u001b[0m\u001b[0;34m\u001b[0m\u001b[0m\n\u001b[0m\u001b[1;32m    414\u001b[0m     \u001b[0;32melif\u001b[0m \u001b[0mmeth\u001b[0m \u001b[0;34m==\u001b[0m \u001b[0;34m'powell'\u001b[0m\u001b[0;34m:\u001b[0m\u001b[0;34m\u001b[0m\u001b[0m\n\u001b[1;32m    415\u001b[0m         \u001b[0;32mreturn\u001b[0m \u001b[0m_minimize_powell\u001b[0m\u001b[0;34m(\u001b[0m\u001b[0mfun\u001b[0m\u001b[0;34m,\u001b[0m \u001b[0mx0\u001b[0m\u001b[0;34m,\u001b[0m \u001b[0margs\u001b[0m\u001b[0;34m,\u001b[0m \u001b[0mcallback\u001b[0m\u001b[0;34m,\u001b[0m \u001b[0;34m**\u001b[0m\u001b[0moptions\u001b[0m\u001b[0;34m)\u001b[0m\u001b[0;34m\u001b[0m\u001b[0m\n",
      "\u001b[0;32m/Users/2359media/anaconda/lib/python2.7/site-packages/scipy/optimize/optimize.pyc\u001b[0m in \u001b[0;36m_minimize_neldermead\u001b[0;34m(func, x0, args, callback, xtol, ftol, maxiter, maxfev, disp, return_all, **unknown_options)\u001b[0m\n\u001b[1;32m    431\u001b[0m     \u001b[0;32mif\u001b[0m \u001b[0mretall\u001b[0m\u001b[0;34m:\u001b[0m\u001b[0;34m\u001b[0m\u001b[0m\n\u001b[1;32m    432\u001b[0m         \u001b[0mallvecs\u001b[0m \u001b[0;34m=\u001b[0m \u001b[0;34m[\u001b[0m\u001b[0msim\u001b[0m\u001b[0;34m[\u001b[0m\u001b[0;36m0\u001b[0m\u001b[0;34m]\u001b[0m\u001b[0;34m]\u001b[0m\u001b[0;34m\u001b[0m\u001b[0m\n\u001b[0;32m--> 433\u001b[0;31m     \u001b[0mfsim\u001b[0m\u001b[0;34m[\u001b[0m\u001b[0;36m0\u001b[0m\u001b[0;34m]\u001b[0m \u001b[0;34m=\u001b[0m \u001b[0mfunc\u001b[0m\u001b[0;34m(\u001b[0m\u001b[0mx0\u001b[0m\u001b[0;34m)\u001b[0m\u001b[0;34m\u001b[0m\u001b[0m\n\u001b[0m\u001b[1;32m    434\u001b[0m     \u001b[0mnonzdelt\u001b[0m \u001b[0;34m=\u001b[0m \u001b[0;36m0.05\u001b[0m\u001b[0;34m\u001b[0m\u001b[0m\n\u001b[1;32m    435\u001b[0m     \u001b[0mzdelt\u001b[0m \u001b[0;34m=\u001b[0m \u001b[0;36m0.00025\u001b[0m\u001b[0;34m\u001b[0m\u001b[0m\n",
      "\u001b[0;32m/Users/2359media/anaconda/lib/python2.7/site-packages/scipy/optimize/optimize.pyc\u001b[0m in \u001b[0;36mfunction_wrapper\u001b[0;34m(*wrapper_args)\u001b[0m\n\u001b[1;32m    280\u001b[0m     \u001b[0;32mdef\u001b[0m \u001b[0mfunction_wrapper\u001b[0m\u001b[0;34m(\u001b[0m\u001b[0;34m*\u001b[0m\u001b[0mwrapper_args\u001b[0m\u001b[0;34m)\u001b[0m\u001b[0;34m:\u001b[0m\u001b[0;34m\u001b[0m\u001b[0m\n\u001b[1;32m    281\u001b[0m         \u001b[0mncalls\u001b[0m\u001b[0;34m[\u001b[0m\u001b[0;36m0\u001b[0m\u001b[0;34m]\u001b[0m \u001b[0;34m+=\u001b[0m \u001b[0;36m1\u001b[0m\u001b[0;34m\u001b[0m\u001b[0m\n\u001b[0;32m--> 282\u001b[0;31m         \u001b[0;32mreturn\u001b[0m \u001b[0mfunction\u001b[0m\u001b[0;34m(\u001b[0m\u001b[0;34m*\u001b[0m\u001b[0;34m(\u001b[0m\u001b[0mwrapper_args\u001b[0m \u001b[0;34m+\u001b[0m \u001b[0margs\u001b[0m\u001b[0;34m)\u001b[0m\u001b[0;34m)\u001b[0m\u001b[0;34m\u001b[0m\u001b[0m\n\u001b[0m\u001b[1;32m    283\u001b[0m \u001b[0;34m\u001b[0m\u001b[0m\n\u001b[1;32m    284\u001b[0m     \u001b[0;32mreturn\u001b[0m \u001b[0mncalls\u001b[0m\u001b[0;34m,\u001b[0m \u001b[0mfunction_wrapper\u001b[0m\u001b[0;34m\u001b[0m\u001b[0m\n",
      "\u001b[0;32m<ipython-input-28-5e9e5f9ef094>\u001b[0m in \u001b[0;36mget_score\u001b[0;34m(wt)\u001b[0m\n\u001b[1;32m      6\u001b[0m     \u001b[0mmax_indices\u001b[0m \u001b[0;34m=\u001b[0m \u001b[0mnp\u001b[0m\u001b[0;34m.\u001b[0m\u001b[0margmax\u001b[0m\u001b[0;34m(\u001b[0m\u001b[0mpredictions_mean\u001b[0m\u001b[0;34m,\u001b[0m\u001b[0maxis\u001b[0m\u001b[0;34m=\u001b[0m\u001b[0;36m1\u001b[0m\u001b[0;34m)\u001b[0m\u001b[0;34m\u001b[0m\u001b[0m\n\u001b[1;32m      7\u001b[0m     \u001b[0mpredicted_classes\u001b[0m \u001b[0;34m=\u001b[0m \u001b[0msvmmodel_cnn\u001b[0m\u001b[0;34m.\u001b[0m\u001b[0mclasses_\u001b[0m\u001b[0;34m[\u001b[0m\u001b[0mmax_indices\u001b[0m\u001b[0;34m]\u001b[0m\u001b[0;34m\u001b[0m\u001b[0m\n\u001b[0;32m----> 8\u001b[0;31m     \u001b[0mscore\u001b[0m \u001b[0;34m=\u001b[0m \u001b[0msum\u001b[0m\u001b[0;34m(\u001b[0m\u001b[0mpredicted_classes\u001b[0m \u001b[0;34m==\u001b[0m \u001b[0my_test\u001b[0m\u001b[0;34m)\u001b[0m\u001b[0;34m*\u001b[0m\u001b[0;36m1.0\u001b[0m\u001b[0;34m/\u001b[0m\u001b[0mlen\u001b[0m\u001b[0;34m(\u001b[0m\u001b[0my_test\u001b[0m\u001b[0;34m)\u001b[0m\u001b[0;34m\u001b[0m\u001b[0m\n\u001b[0m\u001b[1;32m      9\u001b[0m     \u001b[0;32mprint\u001b[0m \u001b[0mscore\u001b[0m\u001b[0;34m\u001b[0m\u001b[0m\n\u001b[1;32m     10\u001b[0m     \u001b[0;32mreturn\u001b[0m \u001b[0;34m(\u001b[0m\u001b[0;36m1\u001b[0m \u001b[0;34m-\u001b[0m \u001b[0mscore\u001b[0m\u001b[0;34m)\u001b[0m\u001b[0;34m\u001b[0m\u001b[0m\n",
      "\u001b[0;31mValueError\u001b[0m: shape mismatch: objects cannot be broadcast to a single shape"
     ]
    }
   ],
   "source": [
    "from scipy.optimize import minimize\n",
    "\n",
    "x0 = [0.496763484,0.167026471,0.336210907]\n",
    "res = minimize(get_score, x0, method='Nelder-Mead')"
   ]
  },
  {
   "cell_type": "code",
   "execution_count": 31,
   "metadata": {
    "collapsed": false
   },
   "outputs": [
    {
     "ename": "NameError",
     "evalue": "name 'weighted_predictions_cnn' is not defined",
     "output_type": "error",
     "traceback": [
      "\u001b[0;31m---------------------------------------------------------------------------\u001b[0m",
      "\u001b[0;31mNameError\u001b[0m                                 Traceback (most recent call last)",
      "\u001b[0;32m<ipython-input-31-8733085abd8b>\u001b[0m in \u001b[0;36m<module>\u001b[0;34m()\u001b[0m\n\u001b[0;32m----> 1\u001b[0;31m \u001b[0mpredictions_mean\u001b[0m \u001b[0;34m=\u001b[0m \u001b[0;34m(\u001b[0m \u001b[0mweighted_predictions_cnn\u001b[0m \u001b[0;34m+\u001b[0m \u001b[0mweighted_predictions_bow\u001b[0m \u001b[0;34m+\u001b[0m \u001b[0mweighted_predictions_attribs\u001b[0m \u001b[0;34m)\u001b[0m \u001b[0;34m/\u001b[0m \u001b[0;36m3.0\u001b[0m\u001b[0;34m\u001b[0m\u001b[0m\n\u001b[0m\u001b[1;32m      2\u001b[0m \u001b[0mmax_indices\u001b[0m \u001b[0;34m=\u001b[0m \u001b[0mnp\u001b[0m\u001b[0;34m.\u001b[0m\u001b[0margmax\u001b[0m\u001b[0;34m(\u001b[0m\u001b[0mpredictions_mean\u001b[0m\u001b[0;34m,\u001b[0m\u001b[0maxis\u001b[0m\u001b[0;34m=\u001b[0m\u001b[0;36m1\u001b[0m\u001b[0;34m)\u001b[0m\u001b[0;34m\u001b[0m\u001b[0m\n\u001b[1;32m      3\u001b[0m \u001b[0mpredicted_classes\u001b[0m \u001b[0;34m=\u001b[0m \u001b[0msvmmodel_cnn\u001b[0m\u001b[0;34m.\u001b[0m\u001b[0mclasses_\u001b[0m\u001b[0;34m[\u001b[0m\u001b[0mmax_indices\u001b[0m\u001b[0;34m]\u001b[0m\u001b[0;34m\u001b[0m\u001b[0m\n",
      "\u001b[0;31mNameError\u001b[0m: name 'weighted_predictions_cnn' is not defined"
     ]
    }
   ],
   "source": [
    "predictions_mean = ( weighted_predictions_cnn + weighted_predictions_bow + weighted_predictions_attribs ) / 3.0\n",
    "max_indices = np.argmax(predictions_mean,axis=1)\n",
    "predicted_classes = svmmodel_cnn.classes_[max_indices]"
   ]
  },
  {
   "cell_type": "code",
   "execution_count": 30,
   "metadata": {
    "collapsed": false
   },
   "outputs": [
    {
     "ename": "NameError",
     "evalue": "name 'predicted_classes' is not defined",
     "output_type": "error",
     "traceback": [
      "\u001b[0;31m---------------------------------------------------------------------------\u001b[0m",
      "\u001b[0;31mNameError\u001b[0m                                 Traceback (most recent call last)",
      "\u001b[0;32m<ipython-input-30-27f85df04a2a>\u001b[0m in \u001b[0;36m<module>\u001b[0;34m()\u001b[0m\n\u001b[1;32m      1\u001b[0m \u001b[0;31m# overall score\u001b[0m\u001b[0;34m\u001b[0m\u001b[0;34m\u001b[0m\u001b[0m\n\u001b[0;32m----> 2\u001b[0;31m \u001b[0msum\u001b[0m\u001b[0;34m(\u001b[0m\u001b[0mpredicted_classes\u001b[0m \u001b[0;34m==\u001b[0m \u001b[0my_test\u001b[0m\u001b[0;34m)\u001b[0m\u001b[0;34m*\u001b[0m\u001b[0;36m1.0\u001b[0m\u001b[0;34m/\u001b[0m\u001b[0mlen\u001b[0m\u001b[0;34m(\u001b[0m\u001b[0my_test\u001b[0m\u001b[0;34m)\u001b[0m\u001b[0;34m\u001b[0m\u001b[0m\n\u001b[0m",
      "\u001b[0;31mNameError\u001b[0m: name 'predicted_classes' is not defined"
     ]
    }
   ],
   "source": [
    "# overall score\n",
    "sum(predicted_classes == y_test)*1.0/len(y_test)"
   ]
  },
  {
   "cell_type": "markdown",
   "metadata": {},
   "source": [
    "## ALL DATA AT ONCE"
   ]
  },
  {
   "cell_type": "code",
   "execution_count": 39,
   "metadata": {
    "collapsed": false
   },
   "outputs": [
    {
     "name": "stdout",
     "output_type": "stream",
     "text": [
      "0.355\n"
     ]
    }
   ],
   "source": [
    "train_all = np.hstack([train_cnn, train_bow, train_attribs])\n",
    "train_all_normalized = preprocessing.scale(train_all, axis=0)\n",
    "predictions_all, svmmodel_all, score_all = 0, 0, 0\n",
    "\n",
    "x_train_all, x_test_all = train_all_normalized[train_indices], train_all_normalized[test_indices]\n",
    "\n",
    "svmmodel_all = svm.SVC(kernel='linear', probability=True).fit(x_train_all,y_train) \n",
    "score_all = svmmodel_all.score(x_test_all,y_test) \n",
    "predictions_all = svmmodel_all.predict_proba(x_test_all) \n",
    "print score_all"
   ]
  },
  {
   "cell_type": "markdown",
   "metadata": {
    "collapsed": true
   },
   "source": [
    "## KAGGLE SUBMISSION"
   ]
  },
  {
   "cell_type": "code",
   "execution_count": 9,
   "metadata": {
    "collapsed": true
   },
   "outputs": [],
   "source": [
    "def svm_predictions_for(train_vals, test_vals, train_lbls, axs=1):\n",
    "    train_vals_normalized = preprocessing.scale(train_vals, axis=axs)\n",
    "    predictions_vals, svmmodel = 0, 0\n",
    "\n",
    "    svmmodel = svm.SVC(kernel='linear', probability=True).fit(train_vals,train_lbls) \n",
    "    predictions_vals = svmmodel.predict_proba(test_vals) \n",
    "    return predictions_vals, svmmodel"
   ]
  },
  {
   "cell_type": "code",
   "execution_count": 13,
   "metadata": {
    "collapsed": true
   },
   "outputs": [],
   "source": [
    "predictions_cnn_final, svm_cnn_final = svm_predictions_for(train_cnn, test_cnn, train_labels, axs=1)"
   ]
  },
  {
   "cell_type": "code",
   "execution_count": 17,
   "metadata": {
    "collapsed": true
   },
   "outputs": [],
   "source": [
    "predictions_bow_final, svm_bow_final = svm_predictions_for(train_bow, test_bow, train_labels, axs=0)"
   ]
  },
  {
   "cell_type": "code",
   "execution_count": 10,
   "metadata": {
    "collapsed": true
   },
   "outputs": [],
   "source": [
    "predictions_attribs_final, svm_attribs_final = svm_predictions_for(train_attribs, test_attribs, train_labels, axs=1)"
   ]
  },
  {
   "cell_type": "code",
   "execution_count": 33,
   "metadata": {
    "collapsed": true
   },
   "outputs": [],
   "source": [
    "predictions_cluster = np.loadtxt('predictions_cluster.txt')"
   ]
  },
  {
   "cell_type": "code",
   "execution_count": 19,
   "metadata": {
    "collapsed": false
   },
   "outputs": [
    {
     "name": "stdout",
     "output_type": "stream",
     "text": [
      "[['0000.jpg' 'soccer_field']\n",
      " ['0001.jpg' 'rubble']\n",
      " ['0002.jpg' 'junk_pile']\n",
      " ..., \n",
      " ['0997.jpg' 'reception']\n",
      " ['0998.jpg' 'cheese_factory']\n",
      " ['0999.jpg' 'pasture']]\n"
     ]
    }
   ],
   "source": [
    "def wpred(predictions, wt):\n",
    "    return wt*np.array(predictions)\n",
    "\n",
    "predictions_mean_final = ( wpred(predictions_cnn_final,0.496763484) + wpred(predictions_bow_final,0.167026471) + wpred(predictions_attribs_final,0.336210907) ) / 3.0\n",
    "max_indices_final = np.argmax(predictions_mean_final,axis=1)\n",
    "predicted_classes_final = svm_cnn_final.classes_[max_indices_final]\n",
    "kaggle_output(predicted_classes_final)\n"
   ]
  },
  {
   "cell_type": "code",
   "execution_count": null,
   "metadata": {
    "collapsed": true
   },
   "outputs": [],
   "source": [
    "predictions_mean_final = ( wpred(predictions_cnn_final,0.40950639854) + wpred(predictions_bow_final,0.12614259597) + wpred(predictions_attribs_final,0.29067641682) ) / 3.0\n",
    "max_indices_final = np.argmax(predictions_mean_final,axis=1)\n",
    "predicted_classes_final = svm_cnn_final.classes_[max_indices_final]\n",
    "kaggle_output(predicted_classes_final)"
   ]
  },
  {
   "cell_type": "code",
   "execution_count": 32,
   "metadata": {
    "collapsed": false
   },
   "outputs": [
    {
     "data": {
      "text/plain": [
       "array(['soccer_field', 'rubble', 'junk_pile', 'harbor', 'tower',\n",
       "       'construction_site', 'boat_deck', 'dining_hall', 'water_mill',\n",
       "       'aquatic_theater', 'oasis', 'water_mill', 'fire_station', 'roof',\n",
       "       'windmill', 'swamp', 'mountain_road', 'junk_pile', 'flood',\n",
       "       'bedroom', 'glacier', 'closet', 'gorge', 'kindergarden_classroom',\n",
       "       'flood', 'sawmill', 'butchers_shop', 'piano_store', 'art_school',\n",
       "       'food_court', 'bus_interior', 'resort', 'junk_pile',\n",
       "       'baseball_field', 'dining_car', 'roof', 'computer_room', 'orchard',\n",
       "       'elevator_lobby', 'voting_booth', 'bamboo_forest', 'courtroom',\n",
       "       'office_building', 'amusement_park', 'forest_road', 'town_house',\n",
       "       'yard', 'bus_shelter', 'hallway', 'parlor', 'closet', 'crosswalk',\n",
       "       'physics_laboratory', 'fort', 'rock_arch', 'forest_road',\n",
       "       'airplane_cabin', 'windmill', 'ramp', 'tea_garden', 'videostore',\n",
       "       'raceway', 'manhole', 'rainforest', 'corridor', 'attic', 'basement',\n",
       "       'gasworks', 'chemistry_lab', 'classroom', 'mountain_road',\n",
       "       'bowling_alley', 'campsite', 'ocean', 'office', 'art_school',\n",
       "       'voting_booth', 'mansion', 'bookstore', 'food_court', 'sushi_bar',\n",
       "       'computer_room', 'mountain', 'hayfield', 'shopfront', 'campsite',\n",
       "       'office', 'dining_room', 'sandbar', 'boat_deck', 'street',\n",
       "       'trailer_park', 'ballroom', 'hill', 'office', 'cafeteria',\n",
       "       'water_mill', 'fence', 'golf_course', 'reading_room', 'kitchen',\n",
       "       'resort', 'soccer_field', 'banquet_hall', 'cemetery', 'bayou',\n",
       "       'forest_road', 'fort', 'cliff', 'bowling_alley', 'beach',\n",
       "       'supermarket', 'dentists_office', 'junk_pile', 'butchers_shop',\n",
       "       'office', 'pharmacy', 'construction_site', 'hill', 'amusement_park',\n",
       "       'creek', 'fort', 'harbor', 'science_museum', 'river', 'shoe_shop',\n",
       "       'swamp', 'park', 'fire_station', 'airplane_cabin', 'utility_room',\n",
       "       'winery', 'gorge', 'cemetery', 'dam', 'mine', 'roof', 'bedroom',\n",
       "       'ballroom', 'art_school', 'coast', 'courtyard', 'aquarium', 'yard',\n",
       "       'snowfield', 'canyon', 'orchard', 'lawn', 'manhole', 'sea_cliff',\n",
       "       'pond', 'picnic_area', 'phone_booth', 'freeway', 'parlor',\n",
       "       'highway', 'crosswalk', 'sandbar', 'parlor', 'yard',\n",
       "       'elevator_lobby', 'mansion', 'town_house', 'closet', 'gasworks',\n",
       "       'bedroom', 'office_building', 'tearoom', 'fastfood_restaurant',\n",
       "       'reading_room', 'gorge', 'mine', 'lawn', 'mountain', 'courtroom',\n",
       "       'bar', 'picnic_area', 'utility_room', 'nightclub', 'shopfront',\n",
       "       'watering_hole', 'naval_base', 'bowling_alley', 'fountain',\n",
       "       'computer_room', 'sawmill', 'television_studio', 'science_museum',\n",
       "       'yard', 'dam', 'reception', 'amusement_park', 'cottage_garden',\n",
       "       'kitchen', 'sushi_bar', 'repair_shop', 'butchers_shop', 'orchard',\n",
       "       'railway_yard', 'picnic_area', 'islet', 'kindergarden_classroom',\n",
       "       'sky', 'computer_room', 'plaza', 'hospital', 'clothing_store',\n",
       "       'piano_store', 'volcano', 'farm', 'utility_room',\n",
       "       'fastfood_restaurant', 'assembly_line', 'coffee_shop', 'harbor',\n",
       "       'boat_deck', 'castle', 'auditorium', 'freeway', 'ocean', 'cliff',\n",
       "       'shopfront', 'ski_resort', 'valley', 'rubble', 'conference_room',\n",
       "       'reception', 'reception', 'reception', 'railway_yard', 'seawall',\n",
       "       'soccer_field', 'bar', 'newsroom', 'schoolhouse', 'forest_road',\n",
       "       'chapel', 'snowfield', 'airfield', 'airfield', 'bayou', 'hospital',\n",
       "       'forest_road', 'amphitheater', 'living_room', 'armory',\n",
       "       'water_tower', 'kindergarden_classroom', 'pharmacy', 'ski_resort',\n",
       "       'phone_booth', 'reception', 'farm', 'newsroom', 'city', 'pavilion',\n",
       "       'nightclub', 'closet', 'airfield', 'roof', 'parking_lot', 'roof',\n",
       "       'barn', 'rubble', 'freeway', 'pagoda', 'sushi_bar', 'gas_station',\n",
       "       'conference_room', 'airfield', 'flood', 'badlands', 'ranch',\n",
       "       'fountain', 'nightclub', 'cliff', 'fishpond', 'newsroom',\n",
       "       'snowfield', 'resort', 'elevator_lobby', 'amusement_arcade', 'sky',\n",
       "       'windmill', 'gas_station', 'hayfield', 'pagoda', 'shoe_shop',\n",
       "       'gasworks', 'staircase', 'airplane_cabin', 'street', 'raceway',\n",
       "       'assembly_line', 'staircase', 'chapel', 'park', 'bowling_alley',\n",
       "       'conference_room', 'nightclub', 'fountain', 'construction_site',\n",
       "       'canyon', 'utility_room', 'palace', 'snowfield', 'dining_room',\n",
       "       'valley', 'aquatic_theater', 'coffee_shop', 'cliff', 'tower',\n",
       "       'cheese_factory', 'mine', 'cemetery', 'drugstore', 'cheese_factory',\n",
       "       'ramp', 'airfield', 'playground', 'cottage', 'conference_room',\n",
       "       'rainforest', 'building_facade', 'desert_road', 'bar',\n",
       "       'football_field', 'bedroom', 'creek', 'playground', 'gas_station',\n",
       "       'vineyard', 'coast', 'bar', 'art_gallery', 'music_studio',\n",
       "       'reading_room', 'bookstore', 'lab_classroom', 'ski_slope',\n",
       "       'physics_laboratory', 'barn', 'submarine_interior', 'hill', 'pond',\n",
       "       'orchard', 'dam', 'basement', 'town_house', 'fence', 'yard',\n",
       "       'hospital', 'palace', 'cliff', 'trailer_park', 'recreation_room',\n",
       "       'teashop', 'flood', 'highway', 'mansion', 'village', 'tea_garden',\n",
       "       'building_facade', 'bridge', 'soccer_field', 'lecture_room',\n",
       "       'pet_shop', 'basement', 'physics_laboratory', 'swamp', 'hayfield',\n",
       "       'cheese_factory', 'fountain', 'recreation_room', 'parking_lot',\n",
       "       'rock_arch', 'canteen', 'dam', 'gift_shop', 'oasis',\n",
       "       'football_field', 'corridor', 'building_facade', 'yard',\n",
       "       'football_field', 'gas_station', 'staircase', 'cheese_factory',\n",
       "       'kindergarden_classroom', 'shoe_shop', 'oasis', 'coffee_shop',\n",
       "       'naval_base', 'submarine_interior', 'kindergarden_classroom',\n",
       "       'drugstore', 'skyscraper', 'living_room', 'bathroom',\n",
       "       'music_studio', 'naval_base', 'creek', 'art_gallery',\n",
       "       'clothing_store', 'utility_room', 'baseball_field', 'voting_booth',\n",
       "       'reception', 'winery', 'television_studio', 'barn',\n",
       "       'office_cubicles', 'beach', 'windmill', 'computer_room', 'pond',\n",
       "       'resort', 'gas_station', 'closet', 'trailer_park', 'phone_booth',\n",
       "       'hayfield', 'auditorium', 'raceway', 'amphitheater', 'lecture_room',\n",
       "       'junk_pile', 'building_facade', 'office', 'assembly_line',\n",
       "       'fountain', 'yard', 'orchard', 'ski_slope', 'glacier', 'kitchen',\n",
       "       'sawmill', 'construction_site', 'science_museum', 'galley',\n",
       "       'nightclub', 'assembly_line', 'golf_course', 'parking_lot',\n",
       "       'schoolhouse', 'recreation_room', 'coffee_shop', 'ramp',\n",
       "       'amphitheater', 'art_studio', 'science_museum', 'bicycle_racks',\n",
       "       'amusement_arcade', 'ocean', 'sky', 'railway_yard',\n",
       "       'building_facade', 'amusement_arcade', 'bathroom', 'clothing_store',\n",
       "       'seawall', 'plaza', 'motel', 'nightclub', 'teashop', 'tearoom',\n",
       "       'fence', 'amphitheater', 'armory', 'recreation_room', 'resort',\n",
       "       'forest_road', 'volcano', 'cliff', 'dining_hall', 'rock_arch',\n",
       "       'bayou', 'attic', 'clothing_store', 'beach', 'office_cubicles',\n",
       "       'rubble', 'aquatic_theater', 'parking_lot', 'picnic_area', 'city',\n",
       "       'bridge', 'fastfood_restaurant', 'park', 'swamp', 'bowling_alley',\n",
       "       'palace', 'tower', 'mountain_road', 'dining_room', 'vineyard',\n",
       "       'sandbar', 'amphitheater', 'pasture', 'winery', 'hospital',\n",
       "       'chemistry_lab', 'pond', 'living_room', 'golf_course',\n",
       "       'amusement_park', 'construction_site', 'schoolhouse', 'fence',\n",
       "       'woodland', 'plaza', 'farm', 'newsroom', 'ocean', 'pond',\n",
       "       'newsroom', 'lab_classroom', 'ranch', 'soccer_field', 'ramp',\n",
       "       'elevator_lobby', 'gas_station', 'gorge', 'construction_site',\n",
       "       'mine', 'aquarium', 'vineyard', 'bathroom', 'golf_course', 'park',\n",
       "       'aquatic_theater', 'downtown', 'pavilion', 'bicycle_racks',\n",
       "       'jewelry_shop', 'armory', 'pavilion', 'bridge', 'orchard',\n",
       "       'conference_room', 'sawmill', 'village', 'fence',\n",
       "       'physics_laboratory', 'highway', 'glacier', 'coast', 'sandbar',\n",
       "       'phone_booth', 'downtown', 'junk_pile', 'coffee_shop', 'sawmill',\n",
       "       'art_studio', 'gas_station', 'bus_interior', 'hayfield',\n",
       "       'lecture_room', 'volcano', 'shoe_shop', 'street', 'downtown',\n",
       "       'village', 'recreation_room', 'mine', 'orchard', 'shower',\n",
       "       'office_building', 'physics_laboratory', 'cemetery', 'classroom',\n",
       "       'auditorium', 'ocean', 'bedroom', 'kitchen', 'voting_booth',\n",
       "       'badlands', 'islet', 'badlands', 'freeway', 'hospital', 'dorm_room',\n",
       "       'dam', 'farm', 'closet', 'airfield', 'banquet_hall', 'plaza',\n",
       "       'ski_slope', 'snowfield', 'river', 'junk_pile', 'courtyard',\n",
       "       'railway_yard', 'courtroom', 'motel', 'naval_base', 'butchers_shop',\n",
       "       'rainforest', 'bamboo_forest', 'cliff', 'kindergarden_classroom',\n",
       "       'assembly_line', 'ramp', 'lab_classroom', 'skyscraper', 'classroom',\n",
       "       'shoe_shop', 'resort', 'canteen', 'creek', 'picnic_area',\n",
       "       'fastfood_restaurant', 'dining_car', 'assembly_line',\n",
       "       'assembly_line', 'schoolhouse', 'clothing_store', 'videostore',\n",
       "       'skyscraper', 'fishpond', 'cliff', 'ramp', 'palace', 'food_court',\n",
       "       'badlands', 'canteen', 'recreation_room', 'newsroom', 'art_school',\n",
       "       'nightclub', 'canteen', 'village', 'bar', 'downtown', 'dining_car',\n",
       "       'courthouse', 'river', 'ranch_house', 'islet', 'food_court',\n",
       "       'rock_arch', 'ranch', 'conference_room', 'living_room', 'shower',\n",
       "       'gift_shop', 'glacier', 'bowling_alley', 'gift_shop',\n",
       "       'submarine_interior', 'winery', 'kindergarden_classroom', 'chapel',\n",
       "       'badlands', 'seawall', 'basement', 'computer_room', 'orchard',\n",
       "       'seawall', 'rock_arch', 'sushi_bar', 'voting_booth', 'ice_shelf',\n",
       "       'park', 'playground', 'dentists_office', 'computer_room', 'roof',\n",
       "       'rubble', 'office_building', 'dam', 'railway_yard', 'courtyard',\n",
       "       'butchers_shop', 'palace', 'dining_car', 'valley', 'freeway',\n",
       "       'sandbar', 'skyscraper', 'archive', 'freeway', 'pet_shop',\n",
       "       'shoe_shop', 'courthouse', 'mountain_road', 'closet', 'closet',\n",
       "       'lecture_room', 'bedroom', 'yard', 'nightclub', 'gorge',\n",
       "       'submarine_interior', 'fishpond', 'cheese_factory', 'mine',\n",
       "       'bridge', 'beach', 'dining_room', 'repair_shop', 'mountain_road',\n",
       "       'baseball_field', 'amphitheater', 'fountain', 'train_railway',\n",
       "       'art_studio', 'pavilion', 'chemistry_lab', 'amphitheater',\n",
       "       'dentists_office', 'plaza', 'campsite', 'farm', 'cafeteria',\n",
       "       'seawall', 'campsite', 'bar', 'bayou', 'ocean', 'valley',\n",
       "       'sushi_bar', 'desert_road', 'cemetery', 'valley', 'bathroom',\n",
       "       'airplane_cabin', 'construction_site', 'mountain_road',\n",
       "       'ranch_house', 'office_building', 'dentists_office', 'aquarium',\n",
       "       'chapel', 'bookstore', 'supermarket', 'downtown', 'oasis',\n",
       "       'train_railway', 'lab_classroom', 'fence', 'naval_base', 'aquarium',\n",
       "       'fastfood_restaurant', 'ranch_house', 'tower', 'pagoda',\n",
       "       'auditorium', 'airfield', 'trailer_park', 'bamboo_forest', 'valley',\n",
       "       'closet', 'farm', 'piano_store', 'classroom', 'airplane_cabin',\n",
       "       'highway', 'bowling_alley', 'ski_resort', 'motel',\n",
       "       'physics_laboratory', 'ranch_house', 'mine', 'nightclub',\n",
       "       'boat_deck', 'naval_base', 'junk_pile', 'pharmacy', 'dining_room',\n",
       "       'elevator_lobby', 'dining_hall', 'bus_interior', 'fort',\n",
       "       'chemistry_lab', 'archive', 'oasis', 'bicycle_racks',\n",
       "       'aquatic_theater', 'harbor', 'water_tower', 'watering_hole',\n",
       "       'downtown', 'computer_room', 'freeway', 'canteen', 'ice_shelf',\n",
       "       'shower', 'cottage', 'nightclub', 'street', 'mountain', 'office',\n",
       "       'crosswalk', 'snowfield', 'chemistry_lab', 'swamp', 'water_mill',\n",
       "       'desert_road', 'chemistry_lab', 'classroom', 'cemetery', 'palace',\n",
       "       'water_tower', 'bowling_alley', 'snowfield', 'crosswalk', 'village',\n",
       "       'courtroom', 'valley', 'fastfood_restaurant', 'pagoda',\n",
       "       'supermarket', 'campsite', 'tower', 'ballroom',\n",
       "       'kindergarden_classroom', 'orchard', 'village', 'canteen', 'beach',\n",
       "       'newsroom', 'bridge', 'harbor', 'sky', 'reading_room',\n",
       "       'music_studio', 'bridge', 'river', 'harbor', 'canteen', 'sawmill',\n",
       "       'manhole', 'coffee_shop', 'beach', 'windmill', 'ice_shelf',\n",
       "       'courtyard', 'castle', 'badlands', 'hayfield', 'reception',\n",
       "       'amphitheater', 'ski_slope', 'chapel', 'tea_garden', 'roof',\n",
       "       'kindergarden_classroom', 'reading_room', 'bus_interior',\n",
       "       'newsroom', 'raceway', 'water_tower', 'ocean', 'aquarium',\n",
       "       'golf_course', 'mansion', 'auditorium', 'junk_pile', 'city', 'pond',\n",
       "       'rainforest', 'orchard', 'cafeteria', 'crosswalk', 'cemetery',\n",
       "       'limousine_interior', 'creek', 'bar', 'snowfield', 'barn',\n",
       "       'drugstore', 'bookstore', 'sawmill', 'pagoda', 'food_court', 'hill',\n",
       "       'golf_course', 'raceway', 'pet_shop', 'river', 'television_studio',\n",
       "       'cottage_garden', 'amusement_arcade', 'piano_store', 'drugstore',\n",
       "       'ranch_house', 'galley', 'repair_shop', 'clothing_store',\n",
       "       'gift_shop', 'parking_lot', 'trailer_park', 'music_studio',\n",
       "       'cemetery', 'lawn', 'bus_interior', 'ranch_house', 'voting_booth',\n",
       "       'winery', 'music_studio', 'harbor', 'assembly_line', 'teashop',\n",
       "       'river', 'videostore', 'shoe_shop', 'sushi_bar', 'music_studio',\n",
       "       'banquet_hall', 'conference_room', 'shower', 'voting_booth',\n",
       "       'corridor', 'football_field', 'physics_laboratory', 'seawall',\n",
       "       'basement', 'boat_deck', 'pasture', 'bamboo_forest',\n",
       "       'conference_room', 'drugstore', 'attic', 'volcano', 'fishpond',\n",
       "       'chemistry_lab', 'barn', 'soccer_field', 'newsroom', 'palace',\n",
       "       'islet', 'shower', 'town_house', 'attic', 'television_studio',\n",
       "       'canteen', 'downtown', 'food_court', 'staircase', 'cemetery',\n",
       "       'parlor', 'bridge', 'mountain_road', 'aquarium', 'mountain',\n",
       "       'auditorium', 'closet', 'baseball_field', 'junk_pile', 'dorm_room',\n",
       "       'creek', 'ice_shelf', 'glacier', 'football_field',\n",
       "       'dentists_office', 'sushi_bar', 'shopfront', 'ski_resort',\n",
       "       'fastfood_restaurant', 'sea_cliff', 'swamp', 'television_studio',\n",
       "       'bowling_alley', 'bicycle_racks', 'galley', 'banquet_hall', 'fence',\n",
       "       'mountain', 'rainforest', 'ranch', 'ranch', 'elevator_lobby',\n",
       "       'cottage', 'bus_interior', 'closet', 'corridor', 'bedroom',\n",
       "       'crosswalk', 'sushi_bar', 'clothing_store', 'lecture_room',\n",
       "       'staircase', 'basement', 'junk_pile', 'aquarium', 'pet_shop',\n",
       "       'bus_interior', 'hill', 'gas_station', 'amusement_arcade',\n",
       "       'water_mill', 'bar', 'assembly_line', 'fountain', 'hallway',\n",
       "       'reception', 'cheese_factory', 'pasture'], \n",
       "      dtype='|S22')"
      ]
     },
     "execution_count": 32,
     "metadata": {},
     "output_type": "execute_result"
    }
   ],
   "source": [
    "predicted_classes_final"
   ]
  }
 ],
 "metadata": {
  "kernelspec": {
   "display_name": "Python 2",
   "language": "python",
   "name": "python2"
  },
  "language_info": {
   "codemirror_mode": {
    "name": "ipython",
    "version": 2
   },
   "file_extension": ".py",
   "mimetype": "text/x-python",
   "name": "python",
   "nbconvert_exporter": "python",
   "pygments_lexer": "ipython2",
   "version": "2.7.10"
  }
 },
 "nbformat": 4,
 "nbformat_minor": 0
}
