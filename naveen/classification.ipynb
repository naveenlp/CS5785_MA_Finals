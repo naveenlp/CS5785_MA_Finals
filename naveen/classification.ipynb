{
 "cells": [
  {
   "cell_type": "code",
   "execution_count": null,
   "metadata": {
    "collapsed": false
   },
   "outputs": [],
   "source": [
    "%run \"../library.py\""
   ]
  },
  {
   "cell_type": "code",
   "execution_count": 2,
   "metadata": {
    "collapsed": false
   },
   "outputs": [],
   "source": []
  },
  {
   "cell_type": "code",
   "execution_count": 3,
   "metadata": {
    "collapsed": false
   },
   "outputs": [],
   "source": [
    "# prepare full training and test dataset\n",
    "# http://stats.stackexchange.com/questions/82923/mixing-continuous-and-binary-data-with-linear-svm\n",
    "train_data = preprocessing.scale(np.hstack([train_cnn,train_bow,train_attribs]), axis=0)\n",
    "# train_data = np.hstack([train_data,train_attribs])\n",
    "test_data = np.hstack([test_cnn,test_bow,test_attribs])\n",
    "# test_data = np.hstack([test_data,test_attribs])\n",
    "\n",
    "means = np.mean(train_data,axis=0)\n",
    "stds = np.std(train_data,axis=0)\n",
    "test_data = (test_data - means[None,:])/ stds[None,:]"
   ]
  },
  {
   "cell_type": "code",
   "execution_count": 15,
   "metadata": {
    "collapsed": false
   },
   "outputs": [
    {
     "name": "stdout",
     "output_type": "stream",
     "text": [
      "0.398333333333\n",
      "[0.39833333333333332] mean:  0.398333333333\n"
     ]
    }
   ],
   "source": [
    "#svm classification\n",
    "\n",
    "\n",
    "svm_accuracy = []\n",
    "predictions, svmmodel = 0, 0\n",
    "for train, test in  KFold(len(train_data),n_folds=5):\n",
    "    X_train,Y_train, X_test,Y_test = train_data[train],train_labels[train],train_data[test],train_labels[test]\n",
    "    svmmodel = svm.SVC(kernel='linear', probability=True).fit(X_train,Y_train)\n",
    "    score = svmmodel.score(X_test,Y_test)\n",
    "    svm_accuracy.append(score)\n",
    "    predictions = svmmodel.predict_proba(X_test)\n",
    "    print score\n",
    "    break\n",
    "print svm_accuracy, \"mean: \", np.mean(svm_accuracy)"
   ]
  },
  {
   "cell_type": "code",
   "execution_count": 21,
   "metadata": {
    "collapsed": false
   },
   "outputs": [
    {
     "name": "stdout",
     "output_type": "stream",
     "text": [
      "(2400, 8294) (600, 8294) (2400,) (600,)\n"
     ]
    }
   ],
   "source": [
    "'''\n",
    "1. get predictions_cnn, predictions_bow and predictions_attribs set similar to the above\n",
    "2. multiply the respective predictions array by the respective weights. \n",
    "eg. for cnn, the weight is 39/(39+12+27)\n",
    "3. get a prediction_mean which averages the 3 prediction arrays\n",
    "4. pick the maximum value and get the index for the maximum value\n",
    "5. the svmmodel.classes_[max_index] will be the predicted class\n",
    "REMEMBER: save the svm model which you fit. and do a single split. shouldn't use kfold\n",
    "X_train, X_test, y_train, y_test = train_test_split(train_data, train_labels, test_size=0.2, random_state=42)\n",
    "'''\n",
    "from sklearn.cross_validation import train_test_split\n",
    "X_train, X_test, y_train, y_test = train_test_split(train_data, train_labels, test_size=0.2, random_state=42)\n",
    "print X_train.shape, X_test.shape, y_train.shape, y_test.shape"
   ]
  },
  {
   "cell_type": "code",
   "execution_count": null,
   "metadata": {
    "collapsed": true
   },
   "outputs": [],
   "source": []
  },
  {
   "cell_type": "code",
   "execution_count": null,
   "metadata": {
    "collapsed": true
   },
   "outputs": [],
   "source": []
  },
  {
   "cell_type": "code",
   "execution_count": 62,
   "metadata": {
    "collapsed": false
   },
   "outputs": [
    {
     "name": "stderr",
     "output_type": "stream",
     "text": [
      "/Users/2359media/anaconda/lib/python2.7/site-packages/sklearn/lda.py:371: UserWarning: Variables are collinear.\n",
      "  warnings.warn(\"Variables are collinear.\")\n"
     ]
    }
   ],
   "source": [
    "# LDA\n",
    "sklearn_lda = LDA(n_components=200)\n",
    "train_data_lda = sklearn_lda.fit_transform(train_data, train_labels)"
   ]
  },
  {
   "cell_type": "code",
   "execution_count": 86,
   "metadata": {
    "collapsed": false
   },
   "outputs": [
    {
     "name": "stdout",
     "output_type": "stream",
     "text": [
      "1.0\n",
      "1.0\n",
      "1.0\n",
      "1.0\n",
      "1.0\n",
      "[1.0, 1.0, 1.0, 1.0, 1.0] mean:  1.0\n"
     ]
    }
   ],
   "source": [
    "svm_accuracy = []\n",
    "for train, test in  KFold(len(train_data_lda),n_folds=5):\n",
    "    X_train,Y_train, X_test,Y_test = train_data_lda[train],train_labels[train],train_data_lda[test],train_labels[test]\n",
    "    score = svm.SVC(kernel='linear').fit(X_train,Y_train).score(X_test,Y_test)\n",
    "    svm_accuracy.append(score)\n",
    "    print score\n",
    "    \n",
    "print svm_accuracy, \"mean: \", np.mean(svm_accuracy)"
   ]
  },
  {
   "cell_type": "code",
   "execution_count": 80,
   "metadata": {
    "collapsed": false
   },
   "outputs": [
    {
     "name": "stdout",
     "output_type": "stream",
     "text": [
      "[['0000.jpg' 'soccer_field']\n",
      " ['0001.jpg' 'city']\n",
      " ['0002.jpg' 'recreation_room']\n",
      " ..., \n",
      " ['0997.jpg' 'fastfood_restaurant']\n",
      " ['0998.jpg' 'dorm_room']\n",
      " ['0999.jpg' 'pasture']]\n"
     ]
    }
   ],
   "source": [
    "#scale test set\n",
    "\n",
    "test_data_lda = sklearn_lda.transform(test_data)\n",
    "predict = svm.SVC(kernel='linear').fit(train_data_lda,train_labels).predict(test_data_lda)\n",
    "kaggle_output(predict)"
   ]
  },
  {
   "cell_type": "code",
   "execution_count": 11,
   "metadata": {
    "collapsed": false
   },
   "outputs": [
    {
     "name": "stdout",
     "output_type": "stream",
     "text": [
      "0.325\n",
      "0.308\n",
      "0.322\n"
     ]
    }
   ],
   "source": [
    "# PCA + Adaboost\n",
    "\n",
    "\n",
    "# train_data_pca = get_pca(train_data, 2)\n",
    "# test_data_pca = get_pca(test_data, 200)\n",
    "accuracies = []\n",
    "for train, test in  KFold(len(train_data),n_folds=3):\n",
    "    clf = AdaBoostClassifier(svm.SVC(probability=True,kernel='linear'),n_estimators=5)\n",
    "    X_train,Y_train, X_test,Y_test = train_data[train],train_labels[train],train_data[test],train_labels[test]\n",
    "    score = clf.fit(X_train,Y_train).score(X_test,Y_test)\n",
    "    accuracies.append(score)\n",
    "    print score\n"
   ]
  },
  {
   "cell_type": "code",
   "execution_count": 9,
   "metadata": {
    "collapsed": false
   },
   "outputs": [
    {
     "data": {
      "text/plain": [
       "AdaBoostClassifier(algorithm='SAMME.R',\n",
       "          base_estimator=SVC(C=1.0, cache_size=200, class_weight=None, coef0=0.0, degree=3, gamma=0.0,\n",
       "  kernel='linear', max_iter=-1, probability=True, random_state=None,\n",
       "  shrinking=True, tol=0.001, verbose=False),\n",
       "          learning_rate=1.0, n_estimators=5, random_state=None)"
      ]
     },
     "execution_count": 9,
     "metadata": {},
     "output_type": "execute_result"
    }
   ],
   "source": [
    "# tdpca = get_pca(train_data, 2)\n",
    "# clf = AdaBoostClassifier(svm.SVC(probability=True,kernel='linear'),n_estimators=5)\n",
    "clf.fit(tdpca,train_labels)"
   ]
  },
  {
   "cell_type": "code",
   "execution_count": 10,
   "metadata": {
    "collapsed": false
   },
   "outputs": [
    {
     "data": {
      "text/plain": [
       "array(['valley', 'forest_road', 'dentists_office', 'city', 'city',\n",
       "       'fishpond', 'dentists_office', 'bookstore', 'fishpond', 'fishpond',\n",
       "       'coast', 'valley', 'city', 'coast', 'ocean', 'valley', 'coast',\n",
       "       'fishpond', 'bookstore', 'television_studio', 'valley',\n",
       "       'television_studio', 'valley', 'bookstore', 'sea_cliff',\n",
       "       'dentists_office', 'bookstore', 'bookstore', 'television_studio',\n",
       "       'newsroom', 'television_studio', 'television_studio', 'vineyard',\n",
       "       'sea_cliff', 'bookstore', 'coast', 'bookstore', 'valley',\n",
       "       'television_studio', 'television_studio', 'valley', 'bar', 'city',\n",
       "       'city', 'valley', 'city', 'valley', 'city', 'television_studio',\n",
       "       'bar', 'bookstore', 'television_studio', 'dentists_office', 'city',\n",
       "       'valley', 'valley', 'newsroom', 'valley', 'forest_road', 'valley',\n",
       "       'dining_car', 'city', 'bookstore', 'valley', 'television_studio',\n",
       "       'fishpond', 'bookstore', 'fishpond', 'bar', 'television_studio',\n",
       "       'valley', 'bookstore', 'playground', 'valley', 'bookstore',\n",
       "       'bookstore', 'television_studio', 'valley', 'bookstore',\n",
       "       'bookstore', 'newsroom', 'bookstore', 'valley', 'valley', 'tearoom',\n",
       "       'coast', 'bookstore', 'dentists_office', 'valley',\n",
       "       'dentists_office', 'building_facade', 'valley', 'tearoom', 'valley',\n",
       "       'bookstore', 'bookstore', 'ocean', 'city', 'valley', 'bookstore',\n",
       "       'dentists_office', 'plaza', 'valley', 'bookstore', 'sea_cliff',\n",
       "       'valley', 'valley', 'sea_cliff', 'valley', 'bookstore', 'valley',\n",
       "       'bookstore', 'television_studio', 'television_studio', 'bar', 'bar',\n",
       "       'bookstore', 'sea_cliff', 'valley', 'city', 'valley', 'valley',\n",
       "       'hill', 'dentists_office', 'valley', 'bookstore', 'valley',\n",
       "       'valley', 'city', 'television_studio', 'dentists_office',\n",
       "       'bookstore', 'coast', 'valley', 'sea_cliff', 'television_studio',\n",
       "       'fishpond', 'television_studio', 'dentists_office', 'bookstore',\n",
       "       'valley', 'city', 'village', 'valley', 'valley', 'valley', 'valley',\n",
       "       'valley', 'bookstore', 'valley', 'hill', 'valley', 'bookstore',\n",
       "       'valley', 'bookstore', 'valley', 'television_studio', 'hill',\n",
       "       'newsroom', 'valley', 'dining_car', 'city', 'city', 'bookstore',\n",
       "       'valley', 'bar', 'city', 'bookstore', 'television_studio',\n",
       "       'bookstore', 'valley', 'fishpond', 'city', 'valley', 'bookstore',\n",
       "       'bookstore', 'valley', 'television_studio', 'television_studio',\n",
       "       'dentists_office', 'valley', 'desert_road', 'bookstore', 'city',\n",
       "       'bookstore', 'fishpond', 'television_studio', 'dentists_office',\n",
       "       'coast', 'valley', 'dentists_office', 'city', 'coast', 'bookstore',\n",
       "       'dentists_office', 'bookstore', 'bookstore', 'hill', 'city',\n",
       "       'sea_cliff', 'coast', 'bookstore', 'valley', 'television_studio',\n",
       "       'city', 'valley', 'television_studio', 'dentists_office', 'valley',\n",
       "       'coast', 'television_studio', 'bookstore', 'dentists_office',\n",
       "       'bookstore', 'valley', 'attic', 'valley', 'dentists_office',\n",
       "       'playground', 'valley', 'valley', 'bookstore', 'fishpond', 'valley',\n",
       "       'fishpond', 'bar', 'television_studio', 'fishpond',\n",
       "       'dentists_office', 'hill', 'valley', 'valley', 'bookstore',\n",
       "       'bookstore', 'city', 'valley', 'bookstore', 'valley', 'valley',\n",
       "       'aquatic_theater', 'valley', 'valley', 'valley', 'playground',\n",
       "       'dentists_office', 'television_studio', 'valley', 'bookstore',\n",
       "       'bookstore', 'valley', 'bar', 'dentists_office', 'valley',\n",
       "       'bookstore', 'city', 'valley', 'attic', 'bathroom', 'coast',\n",
       "       'fishpond', 'valley', 'fishpond', 'valley', 'forest_road', 'city',\n",
       "       'valley', 'television_studio', 'playground', 'newsroom', 'valley',\n",
       "       'sea_cliff', 'valley', 'valley', 'fishpond', 'television_studio',\n",
       "       'coast', 'sea_cliff', 'bookstore', 'valley', 'sea_cliff', 'bar',\n",
       "       'bookstore', 'valley', 'valley', 'attic', 'city', 'building_facade',\n",
       "       'bookstore', 'city', 'television_studio', 'bookstore',\n",
       "       'building_facade', 'city', 'bookstore', 'bar', 'bookstore', 'coast',\n",
       "       'television_studio', 'bookstore', 'television_studio', 'fishpond',\n",
       "       'hill', 'valley', 'bookstore', 'city', 'sea_cliff', 'bookstore',\n",
       "       'valley', 'bookstore', 'bar', 'valley', 'rock_arch',\n",
       "       'television_studio', 'bookstore', 'coast', 'bookstore',\n",
       "       'dentists_office', 'ocean', 'coast', 'fort', 'valley',\n",
       "       'television_studio', 'valley', 'bar', 'valley', 'bookstore', 'city',\n",
       "       'television_studio', 'valley', 'fort', 'building_facade', 'valley',\n",
       "       'hill', 'bookstore', 'bookstore', 'television_studio', 'bookstore',\n",
       "       'bookstore', 'bookstore', 'valley', 'bookstore', 'city',\n",
       "       'bookstore', 'valley', 'valley', 'valley', 'hill',\n",
       "       'television_studio', 'city', 'football_field', 'forest_road',\n",
       "       'city', 'city', 'coast', 'fishpond', 'television_studio',\n",
       "       'bookstore', 'valley', 'coast', 'city', 'valley', 'fishpond',\n",
       "       'tower', 'sea_cliff', 'valley', 'television_studio', 'fishpond',\n",
       "       'television_studio', 'bookstore', 'valley', 'valley', 'bookstore',\n",
       "       'valley', 'dentists_office', 'sea_cliff', 'sea_cliff', 'bookstore',\n",
       "       'sea_cliff', 'bookstore', 'coast', 'valley', 'bookstore', 'city',\n",
       "       'valley', 'city', 'fishpond', 'television_studio',\n",
       "       'television_studio', 'bookstore', 'bookstore', 'valley',\n",
       "       'bookstore', 'fishpond', 'television_studio', 'bookstore',\n",
       "       'bookstore', 'valley', 'television_studio', 'television_studio',\n",
       "       'dentists_office', 'valley', 'sea_cliff', 'bar', 'bar', 'bookstore',\n",
       "       'valley', 'television_studio', 'dentists_office', 'bookstore',\n",
       "       'newsroom', 'valley', 'bookstore', 'valley', 'valley', 'bookstore',\n",
       "       'valley', 'city', 'city', 'dentists_office', 'coast', 'city',\n",
       "       'valley', 'dentists_office', 'city', 'fishpond', 'bookstore',\n",
       "       'desert_road', 'building_facade', 'bookstore', 'bookstore',\n",
       "       'valley', 'valley', 'coast', 'valley', 'coast', 'dentists_office',\n",
       "       'dentists_office', 'valley', 'television_studio', 'dentists_office',\n",
       "       'newsroom', 'bookstore', 'valley', 'valley', 'football_field',\n",
       "       'bookstore', 'bookstore', 'city', 'aquarium', 'dentists_office',\n",
       "       'bookstore', 'fishpond', 'television_studio', 'valley', 'valley',\n",
       "       'bookstore', 'city', 'bar', 'dentists_office', 'dentists_office',\n",
       "       'valley', 'city', 'city', 'city', 'television_studio',\n",
       "       'television_studio', 'bookstore', 'sea_cliff', 'bookstore', 'bar',\n",
       "       'bookstore', 'hill', 'coast', 'fishpond', 'bookstore', 'coast',\n",
       "       'valley', 'attic', 'dentists_office', 'valley', 'bookstore',\n",
       "       'attic', 'videostore', 'corridor', 'coast', 'bookstore',\n",
       "       'sea_cliff', 'dentists_office', 'valley', 'valley', 'bookstore',\n",
       "       'city', 'city', 'valley', 'bookstore', 'valley', 'valley', 'valley',\n",
       "       'valley', 'bookstore', 'city', 'dentists_office', 'valley',\n",
       "       'television_studio', 'valley', 'city', 'city', 'city', 'hill',\n",
       "       'valley', 'city', 'sea_cliff', 'bookstore', 'valley', 'valley',\n",
       "       'bookstore', 'bar', 'city', 'valley', 'forest_road', 'newsroom',\n",
       "       'hill', 'valley', 'valley', 'coast', 'fishpond', 'valley',\n",
       "       'television_studio', 'coast', 'valley', 'fishpond', 'attic',\n",
       "       'valley', 'bar', 'bookstore', 'television_studio', 'sea_cliff',\n",
       "       'coast', 'valley', 'dentists_office', 'bookstore', 'city', 'valley',\n",
       "       'bookstore', 'coast', 'valley', 'valley', 'valley', 'fishpond',\n",
       "       'city', 'fishpond', 'bookstore', 'bookstore', 'dentists_office',\n",
       "       'hill', 'television_studio', 'valley', 'attic', 'forest_road',\n",
       "       'television_studio', 'tower', 'city', 'valley', 'bar', 'sea_cliff',\n",
       "       'valley', 'fishpond', 'city', 'dentists_office', 'city',\n",
       "       'bookstore', 'shower', 'valley', 'television_studio',\n",
       "       'dentists_office', 'television_studio', 'valley', 'valley',\n",
       "       'valley', 'bookstore', 'valley', 'fishpond', 'sea_cliff', 'valley',\n",
       "       'fishpond', 'valley', 'bar', 'city', 'fishpond', 'valley', 'coast',\n",
       "       'building_facade', 'tower', 'city', 'bookstore', 'city', 'city',\n",
       "       'bookstore', 'coast', 'sandbar', 'coast', 'bookstore',\n",
       "       'television_studio', 'attic', 'bookstore', 'valley', 'bookstore',\n",
       "       'bar', 'football_field', 'bookstore', 'valley', 'coast',\n",
       "       'television_studio', 'tearoom', 'bookstore', 'newsroom', 'city',\n",
       "       'television_studio', 'bar', 'city', 'fishpond', 'valley', 'bedroom',\n",
       "       'city', 'bookstore', 'valley', 'bookstore', 'dentists_office',\n",
       "       'bookstore', 'dentists_office', 'bookstore', 'bookstore', 'hill',\n",
       "       'bookstore', 'sea_cliff', 'dentists_office', 'bookstore', 'hill',\n",
       "       'coast', 'coast', 'bookstore', 'sea_cliff', 'city',\n",
       "       'television_studio', 'television_studio', 'attic', 'bookstore',\n",
       "       'valley', 'television_studio', 'bookstore', 'bar', 'newsroom',\n",
       "       'bookstore', 'bookstore', 'valley', 'ocean', 'fishpond',\n",
       "       'bookstore', 'valley', 'valley', 'coast', 'bookstore',\n",
       "       'television_studio', 'valley', 'valley', 'sea_cliff',\n",
       "       'television_studio', 'bookstore', 'fishpond', 'sea_cliff', 'ocean',\n",
       "       'valley', 'city', 'ballroom', 'bookstore', 'city',\n",
       "       'television_studio', 'valley', 'valley', 'valley', 'valley', 'city',\n",
       "       'valley', 'dentists_office', 'bookstore', 'city', 'valley',\n",
       "       'dentists_office', 'newsroom', 'bookstore', 'television_studio',\n",
       "       'sea_cliff', 'bar', 'valley', 'bookstore', 'sea_cliff',\n",
       "       'television_studio', 'fishpond', 'valley', 'valley',\n",
       "       'dentists_office', 'television_studio', 'coast', 'valley', 'valley',\n",
       "       'forest_road', 'sea_cliff', 'television_studio', 'valley',\n",
       "       'dentists_office', 'valley', 'television_studio', 'city',\n",
       "       'sea_cliff', 'valley', 'bookstore', 'coast', 'fishpond',\n",
       "       'bookstore', 'sea_cliff', 'valley', 'valley', 'bookstore', 'valley',\n",
       "       'valley', 'valley', 'television_studio', 'television_studio',\n",
       "       'plaza', 'valley', 'valley', 'valley', 'television_studio', 'attic',\n",
       "       'bookstore', 'bar', 'dentists_office', 'forest_road', 'coast',\n",
       "       'rock_arch', 'bookstore', 'ocean', 'coast', 'fishpond', 'newsroom',\n",
       "       'city', 'valley', 'city', 'playground', 'valley', 'valley', 'coast',\n",
       "       'hill', 'playground', 'valley', 'bookstore', 'bookstore',\n",
       "       'bookstore', 'hill', 'television_studio', 'valley', 'city',\n",
       "       'newsroom', 'ocean', 'fishpond', 'city', 'television_studio',\n",
       "       'football_field', 'sea_cliff', 'bookstore', 'newsroom',\n",
       "       'television_studio', 'aquatic_theater', 'television_studio', 'city',\n",
       "       'bookstore', 'bookstore', 'coast', 'attic', 'videostore', 'attic',\n",
       "       'city', 'valley', 'rock_arch', 'bookstore', 'city', 'bookstore',\n",
       "       'valley', 'city', 'valley', 'dentists_office', 'city', 'valley',\n",
       "       'dentists_office', 'aquatic_theater', 'valley', 'bookstore',\n",
       "       'coast', 'sea_cliff', 'valley', 'bookstore', 'bookstore', 'valley',\n",
       "       'ballroom', 'ocean', 'television_studio', 'coast', 'videostore',\n",
       "       'valley', 'bookstore', 'valley', 'dentists_office', 'city', 'bar',\n",
       "       'fishpond', 'valley', 'bookstore', 'bookstore', 'valley', 'valley',\n",
       "       'dentists_office', 'valley', 'bookstore', 'sea_cliff', 'city',\n",
       "       'valley', 'bar', 'television_studio', 'valley', 'valley', 'city',\n",
       "       'bookstore', 'shower', 'sea_cliff', 'bar', 'valley', 'forest_road',\n",
       "       'valley', 'city', 'valley', 'valley', 'valley', 'television_studio',\n",
       "       'phone_booth', 'valley', 'bookstore', 'forest_road', 'sea_cliff',\n",
       "       'bookstore', 'bookstore', 'television_studio', 'bookstore', 'city',\n",
       "       'ocean', 'coast', 'bar', 'valley', 'hill', 'shower', 'fishpond',\n",
       "       'city', 'valley', 'valley', 'valley', 'bookstore', 'newsroom',\n",
       "       'valley', 'bookstore', 'coast', 'bookstore', 'valley', 'valley',\n",
       "       'bookstore', 'bookstore', 'television_studio', 'city', 'bookstore',\n",
       "       'valley', 'valley', 'city', 'bookstore', 'valley',\n",
       "       'television_studio', 'valley', 'television_studio', 'newsroom',\n",
       "       'bookstore', 'valley', 'bookstore', 'bookstore', 'dentists_office',\n",
       "       'bookstore', 'hill', 'valley', 'television_studio', 'valley',\n",
       "       'valley', 'bookstore', 'valley', 'building_facade', 'bookstore',\n",
       "       'bar', 'ballroom', 'bookstore', 'bookstore', 'valley', 'bookstore',\n",
       "       'bookstore', 'tearoom', 'dentists_office', 'bar', 'bookstore',\n",
       "       'fishpond', 'television_studio', 'television_studio', 'valley',\n",
       "       'television_studio', 'coast', 'dentists_office', 'fishpond',\n",
       "       'valley', 'valley', 'dentists_office', 'bookstore',\n",
       "       'television_studio', 'hill', 'fishpond', 'television_studio',\n",
       "       'coast', 'valley', 'dentists_office', 'valley', 'valley',\n",
       "       'bookstore', 'city', 'television_studio', 'television_studio',\n",
       "       'bookstore', 'ocean', 'dentists_office', 'fishpond', 'coast',\n",
       "       'newsroom', 'coast', 'hill', 'city', 'valley', 'plaza', 'bookstore',\n",
       "       'football_field', 'fishpond', 'television_studio', 'coast',\n",
       "       'valley', 'valley', 'ocean', 'dentists_office', 'bookstore', 'bar',\n",
       "       'fishpond', 'dentists_office', 'hill', 'valley',\n",
       "       'television_studio', 'television_studio', 'bookstore',\n",
       "       'television_studio', 'bookstore', 'city', 'valley', 'valley',\n",
       "       'city', 'valley', 'television_studio', 'valley',\n",
       "       'television_studio', 'bookstore', 'television_studio',\n",
       "       'television_studio', 'television_studio', 'bar', 'bookstore',\n",
       "       'bookstore', 'bookstore', 'bedroom', 'sea_cliff', 'plaza', 'bar',\n",
       "       'television_studio', 'fishpond', 'corridor', 'dentists_office',\n",
       "       'sea_cliff', 'bookstore', 'bookstore', 'coast', 'television_studio',\n",
       "       'television_studio', 'bar', 'valley'], \n",
       "      dtype='|S22')"
      ]
     },
     "execution_count": 10,
     "metadata": {},
     "output_type": "execute_result"
    }
   ],
   "source": [
    "clf.predict(get_pca(test_data, 2))"
   ]
  }
 ],
 "metadata": {
  "kernelspec": {
   "display_name": "Python 2",
   "language": "python",
   "name": "python2"
  },
  "language_info": {
   "codemirror_mode": {
    "name": "ipython",
    "version": 2
   },
   "file_extension": ".py",
   "mimetype": "text/x-python",
   "name": "python",
   "nbconvert_exporter": "python",
   "pygments_lexer": "ipython2",
   "version": "2.7.10"
  }
 },
 "nbformat": 4,
 "nbformat_minor": 0
}
