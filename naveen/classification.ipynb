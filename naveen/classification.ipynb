{
 "cells": [
  {
   "cell_type": "code",
   "execution_count": null,
   "metadata": {
    "collapsed": false
   },
   "outputs": [],
   "source": [
    "%run \"../library.py\""
   ]
  },
  {
   "cell_type": "code",
   "execution_count": 2,
   "metadata": {
    "collapsed": false
   },
   "outputs": [],
   "source": [
    "from sklearn import preprocessing\n",
    "from sklearn.lda import LDA\n",
    "from sklearn import svm, cross_validation"
   ]
  },
  {
   "cell_type": "code",
   "execution_count": 3,
   "metadata": {
    "collapsed": false
   },
   "outputs": [],
   "source": [
    "# prepare full training and test dataset\n",
    "# http://stats.stackexchange.com/questions/82923/mixing-continuous-and-binary-data-with-linear-svm\n",
    "train_data = preprocessing.scale(np.hstack([train_cnn,train_bow,train_attribs]), axis=0)\n",
    "# train_data = np.hstack([train_data,train_attribs])\n",
    "test_data = np.hstack([test_cnn,test_bow,test_attribs])\n",
    "# test_data = np.hstack([test_data,test_attribs])\n",
    "\n",
    "means = np.mean(train_data,axis=0)\n",
    "stds = np.std(train_data,axis=0)\n",
    "test_data = (test_data - means[None,:])/ stds[None,:]"
   ]
  },
  {
   "cell_type": "code",
   "execution_count": 53,
   "metadata": {
    "collapsed": false
   },
   "outputs": [
    {
     "name": "stdout",
     "output_type": "stream",
     "text": [
      "0.374\n",
      "0.371\n",
      "0.338\n",
      "[0.374, 0.371, 0.33800000000000002] mean:  0.361\n"
     ]
    }
   ],
   "source": [
    "#svm classification\n",
    "from sklearn import linear_model, svm\n",
    "from sklearn.cross_validation import KFold\n",
    "\n",
    "svm_accuracy = []\n",
    "for train, test in  KFold(len(train_data),n_folds=3):\n",
    "    X_train,Y_train, X_test,Y_test = train_data[train],train_labels[train],train_data[test],train_labels[test]\n",
    "    score = svm.SVC(kernel='linear').fit(X_train,Y_train).score(X_test,Y_test)\n",
    "    svm_accuracy.append(score)\n",
    "    print score\n",
    "print svm_accuracy, \"mean: \", np.mean(svm_accuracy)"
   ]
  },
  {
   "cell_type": "code",
   "execution_count": 62,
   "metadata": {
    "collapsed": false
   },
   "outputs": [
    {
     "name": "stderr",
     "output_type": "stream",
     "text": [
      "/Users/2359media/anaconda/lib/python2.7/site-packages/sklearn/lda.py:371: UserWarning: Variables are collinear.\n",
      "  warnings.warn(\"Variables are collinear.\")\n"
     ]
    }
   ],
   "source": [
    "# LDA\n",
    "sklearn_lda = LDA(n_components=200)\n",
    "train_data_lda = sklearn_lda.fit_transform(train_data, train_labels)"
   ]
  },
  {
   "cell_type": "code",
   "execution_count": 86,
   "metadata": {
    "collapsed": false
   },
   "outputs": [
    {
     "name": "stdout",
     "output_type": "stream",
     "text": [
      "1.0\n",
      "1.0\n",
      "1.0\n",
      "1.0\n",
      "1.0\n",
      "[1.0, 1.0, 1.0, 1.0, 1.0] mean:  1.0\n"
     ]
    }
   ],
   "source": [
    "svm_accuracy = []\n",
    "for train, test in  KFold(len(train_data_lda),n_folds=5):\n",
    "    X_train,Y_train, X_test,Y_test = train_data_lda[train],train_labels[train],train_data_lda[test],train_labels[test]\n",
    "    score = svm.SVC(kernel='linear').fit(X_train,Y_train).score(X_test,Y_test)\n",
    "    svm_accuracy.append(score)\n",
    "    print score\n",
    "    \n",
    "print svm_accuracy, \"mean: \", np.mean(svm_accuracy)"
   ]
  },
  {
   "cell_type": "code",
   "execution_count": 80,
   "metadata": {
    "collapsed": false
   },
   "outputs": [
    {
     "name": "stdout",
     "output_type": "stream",
     "text": [
      "[['0000.jpg' 'soccer_field']\n",
      " ['0001.jpg' 'city']\n",
      " ['0002.jpg' 'recreation_room']\n",
      " ..., \n",
      " ['0997.jpg' 'fastfood_restaurant']\n",
      " ['0998.jpg' 'dorm_room']\n",
      " ['0999.jpg' 'pasture']]\n"
     ]
    }
   ],
   "source": [
    "#scale test set\n",
    "\n",
    "test_data_lda = sklearn_lda.transform(test_data)\n",
    "predict = svm.SVC(kernel='linear').fit(train_data_lda,train_labels).predict(test_data_lda)\n",
    "kaggle_output(predict)"
   ]
  },
  {
   "cell_type": "code",
   "execution_count": null,
   "metadata": {
    "collapsed": false
   },
   "outputs": [],
   "source": [
    "# PCA + Adaboost\n",
    "from sklearn.cross_validation import cross_val_score\n",
    "from sklearn.ensemble import AdaBoostClassifier\n",
    "from sklearn import linear_model, svm\n",
    "from sklearn.cross_validation import KFold\n",
    "\n",
    "\n",
    "# train_data_pca = get_pca(train_data, 200)\n",
    "# test_data_pca = get_pca(test_data, 200)\n",
    "accuracies = []\n",
    "for train, test in  KFold(len(train_data),n_folds=3):\n",
    "    clf = AdaBoostClassifier(svm.SVC(probability=True,kernel='linear'),n_estimators=5)\n",
    "    X_train,Y_train, X_test,Y_test = train_data[train],train_labels[train],train_data[test],train_labels[test]\n",
    "    score = clf.fit(X_train,Y_train).score(X_test,Y_test)\n",
    "    accuracies.append(score)\n",
    "    print score\n"
   ]
  }
 ],
 "metadata": {
  "kernelspec": {
   "display_name": "Python 2",
   "language": "python",
   "name": "python2"
  },
  "language_info": {
   "codemirror_mode": {
    "name": "ipython",
    "version": 2
   },
   "file_extension": ".py",
   "mimetype": "text/x-python",
   "name": "python",
   "nbconvert_exporter": "python",
   "pygments_lexer": "ipython2",
   "version": "2.7.10"
  }
 },
 "nbformat": 4,
 "nbformat_minor": 0
}
