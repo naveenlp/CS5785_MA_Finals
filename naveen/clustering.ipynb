{
 "cells": [
  {
   "cell_type": "code",
   "execution_count": null,
   "metadata": {
    "collapsed": false
   },
   "outputs": [],
   "source": [
    "%run \"../library.py\""
   ]
  },
  {
   "cell_type": "code",
   "execution_count": 54,
   "metadata": {
    "collapsed": false
   },
   "outputs": [],
   "source": [
    "from sklearn import preprocessing\n",
    "from collections import Counter"
   ]
  },
  {
   "cell_type": "code",
   "execution_count": 67,
   "metadata": {
    "collapsed": false
   },
   "outputs": [],
   "source": [
    "cluster_train = preprocessing.normalize(np.hstack([train_cnn,train_bow]), axis=0)\n",
    "cluster_tenk = preprocessing.normalize(np.hstack([tenk_cnn,tenk_bow]), axis=0)"
   ]
  },
  {
   "cell_type": "code",
   "execution_count": 68,
   "metadata": {
    "collapsed": false
   },
   "outputs": [],
   "source": [
    "# spectral clustering\n",
    "from sklearn import cluster\n",
    "\n",
    "spectral = cluster.SpectralClustering(n_clusters=200)\n",
    "spectral_output = spectral.fit(cluster_train)\n",
    "spectral_labels = spectral_output.labels_\n",
    "spectral_output_names = get_names_for_clusters(spectral_labels)"
   ]
  },
  {
   "cell_type": "code",
   "execution_count": 57,
   "metadata": {
    "collapsed": false
   },
   "outputs": [],
   "source": [
    "def most_common(lst):\n",
    "    data = Counter(lst)\n",
    "    return data.most_common(1)[0][0]\n",
    "\n",
    "def get_names_for_clusters(output_vals):\n",
    "    labels = []\n",
    "    for cluster_val in np.unique(output_vals):\n",
    "        labels.append(most_common(train_labels[np.where(output_vals == cluster_val)[0]]))\n",
    "    return labels    "
   ]
  },
  {
   "cell_type": "code",
   "execution_count": 70,
   "metadata": {
    "collapsed": false
   },
   "outputs": [
    {
     "data": {
      "text/plain": [
       "0.27400000000000002"
      ]
     },
     "execution_count": 70,
     "metadata": {},
     "output_type": "execute_result"
    }
   ],
   "source": [
    "# determine accuracy\n",
    "clustered_names = []\n",
    "for output in spectral_labels:\n",
    "    clustered_names.append(spectral_output_names[output])\n",
    "np.sum(clustered_names == train_labels)*1.0/len(train_labels)"
   ]
  },
  {
   "cell_type": "code",
   "execution_count": 30,
   "metadata": {
    "collapsed": false
   },
   "outputs": [
    {
     "data": {
      "text/plain": [
       "'closet'"
      ]
     },
     "execution_count": 30,
     "metadata": {},
     "output_type": "execute_result"
    }
   ],
   "source": [
    "# cluster_labels = \n",
    "most_common(cluster_labels)"
   ]
  },
  {
   "cell_type": "code",
   "execution_count": 89,
   "metadata": {
    "collapsed": false
   },
   "outputs": [
    {
     "data": {
      "text/plain": [
       "array([[ 1.        ,  0.06896184,  0.04235933, ...,  0.07560594,\n",
       "         0.04459579,  0.03901993],\n",
       "       [ 0.06896184,  1.        ,  0.0654106 , ...,  0.06492567,\n",
       "         0.05345046,  0.10119376],\n",
       "       [ 0.04235933,  0.0654106 ,  1.        , ...,  0.03286768,\n",
       "         0.03008891,  0.0519844 ],\n",
       "       ..., \n",
       "       [ 0.07560594,  0.06492567,  0.03286768, ...,  1.        ,\n",
       "         0.02688598,  0.03326285],\n",
       "       [ 0.04459579,  0.05345046,  0.03008891, ...,  0.02688598,\n",
       "         1.        ,  0.06146908],\n",
       "       [ 0.03901993,  0.10119376,  0.0519844 , ...,  0.03326285,\n",
       "         0.06146908,  1.        ]])"
      ]
     },
     "execution_count": 89,
     "metadata": {},
     "output_type": "execute_result"
    }
   ],
   "source": [
    "spectral.affinity_matrix_"
   ]
  },
  {
   "cell_type": "code",
   "execution_count": 75,
   "metadata": {
    "collapsed": false
   },
   "outputs": [],
   "source": [
    "# https://code.google.com/p/scipy-cluster/\n",
    "# https://www.youtube.com/watch?v=qUQf1JxnTnY\n",
    "# https://github.com/scikit-fuzzy/scikit-fuzzy\n",
    "\n",
    "import skfuzzy as fuzz\n",
    "cntr, u, u0, d, jm, p, fpc = fuzz.cluster.cmeans(cluster_train[0:500], 200, 2, error=0.005, maxiter=1000, init=None)"
   ]
  },
  {
   "cell_type": "code",
   "execution_count": 83,
   "metadata": {
    "collapsed": false
   },
   "outputs": [
    {
     "data": {
      "text/plain": [
       "(200, 8192)"
      ]
     },
     "execution_count": 83,
     "metadata": {},
     "output_type": "execute_result"
    }
   ],
   "source": [
    "u.shape"
   ]
  }
 ],
 "metadata": {
  "kernelspec": {
   "display_name": "Python 2",
   "language": "python",
   "name": "python2"
  },
  "language_info": {
   "codemirror_mode": {
    "name": "ipython",
    "version": 2
   },
   "file_extension": ".py",
   "mimetype": "text/x-python",
   "name": "python",
   "nbconvert_exporter": "python",
   "pygments_lexer": "ipython2",
   "version": "2.7.10"
  }
 },
 "nbformat": 4,
 "nbformat_minor": 0
}
