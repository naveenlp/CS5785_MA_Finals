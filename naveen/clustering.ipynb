{
 "cells": [
  {
   "cell_type": "code",
   "execution_count": null,
   "metadata": {
    "collapsed": false
   },
   "outputs": [],
   "source": [
    "%run \"../library.py\""
   ]
  },
  {
   "cell_type": "code",
   "execution_count": 54,
   "metadata": {
    "collapsed": false
   },
   "outputs": [],
   "source": [
    "from sklearn import preprocessing\n",
    "from collections import Counter"
   ]
  },
  {
   "cell_type": "code",
   "execution_count": 67,
   "metadata": {
    "collapsed": false
   },
   "outputs": [],
   "source": [
    "cluster_train = preprocessing.normalize(np.hstack([train_cnn,train_bow]), axis=0)\n",
    "cluster_tenk = preprocessing.normalize(np.hstack([tenk_cnn,tenk_bow]), axis=0)"
   ]
  },
  {
   "cell_type": "code",
   "execution_count": 68,
   "metadata": {
    "collapsed": false
   },
   "outputs": [],
   "source": [
    "# spectral clustering\n",
    "from sklearn import cluster\n",
    "\n",
    "spectral = cluster.SpectralClustering(n_clusters=200)\n",
    "spectral_output = spectral.fit(cluster_train)\n",
    "spectral_labels = spectral_output.labels_\n",
    "spectral_output_names = get_names_for_clusters(spectral_labels)"
   ]
  },
  {
   "cell_type": "code",
   "execution_count": 57,
   "metadata": {
    "collapsed": false
   },
   "outputs": [],
   "source": [
    "def most_common(lst):\n",
    "    data = Counter(lst)\n",
    "    return data.most_common(1)[0][0]\n",
    "\n",
    "def get_names_for_clusters(output_vals):\n",
    "    labels = []\n",
    "    for cluster_val in np.unique(output_vals):\n",
    "        labels.append(most_common(train_labels[np.where(output_vals == cluster_val)[0]]))\n",
    "    return labels    "
   ]
  },
  {
   "cell_type": "code",
   "execution_count": 70,
   "metadata": {
    "collapsed": false
   },
   "outputs": [
    {
     "data": {
      "text/plain": [
       "0.27400000000000002"
      ]
     },
     "execution_count": 70,
     "metadata": {},
     "output_type": "execute_result"
    }
   ],
   "source": [
    "# determine accuracy\n",
    "clustered_names = []\n",
    "for output in spectral_labels:\n",
    "    clustered_names.append(spectral_output_names[output])\n",
    "np.sum(clustered_names == train_labels)*1.0/len(train_labels)"
   ]
  },
  {
   "cell_type": "code",
   "execution_count": 30,
   "metadata": {
    "collapsed": false
   },
   "outputs": [
    {
     "data": {
      "text/plain": [
       "'closet'"
      ]
     },
     "execution_count": 30,
     "metadata": {},
     "output_type": "execute_result"
    }
   ],
   "source": [
    "# cluster_labels = \n",
    "most_common(cluster_labels)"
   ]
  },
  {
   "cell_type": "code",
   "execution_count": 75,
   "metadata": {
    "collapsed": false
   },
   "outputs": [],
   "source": [
    "# https://code.google.com/p/scipy-cluster/\n",
    "# https://www.youtube.com/watch?v=qUQf1JxnTnY\n",
    "# https://github.com/scikit-fuzzy/scikit-fuzzy\n",
    "\n",
    "import skfuzzy as fuzz\n",
    "cntr, u, u0, d, jm, p, fpc = fuzz.cluster.cmeans(cluster_train[0:500], 200, 2, error=0.005, maxiter=1000, init=None)"
   ]
  },
  {
   "cell_type": "code",
   "execution_count": 76,
   "metadata": {
    "collapsed": false
   },
   "outputs": [
    {
     "data": {
      "text/plain": [
       "array([[ 0.60805752,  0.59827038,  0.55244145, ...,  0.3588133 ,\n",
       "         0.28635455,  0.27066973],\n",
       "       [ 0.60805856,  0.59827141,  0.55244237, ...,  0.35881338,\n",
       "         0.28635413,  0.27066924],\n",
       "       [ 0.60805328,  0.5982662 ,  0.55243768, ...,  0.35881299,\n",
       "         0.28635625,  0.27067173],\n",
       "       ..., \n",
       "       [ 0.60805807,  0.59827093,  0.55244194, ...,  0.35881334,\n",
       "         0.28635433,  0.27066947],\n",
       "       [ 0.60805875,  0.5982716 ,  0.55244254, ...,  0.35881339,\n",
       "         0.28635405,  0.27066914],\n",
       "       [ 0.25582793,  0.28317184,  0.32211049, ...,  0.57461935,\n",
       "         0.61842038,  0.6215155 ]])"
      ]
     },
     "execution_count": 76,
     "metadata": {},
     "output_type": "execute_result"
    }
   ],
   "source": [
    "d"
   ]
  }
 ],
 "metadata": {
  "kernelspec": {
   "display_name": "Python 2",
   "language": "python",
   "name": "python2"
  },
  "language_info": {
   "codemirror_mode": {
    "name": "ipython",
    "version": 2
   },
   "file_extension": ".py",
   "mimetype": "text/x-python",
   "name": "python",
   "nbconvert_exporter": "python",
   "pygments_lexer": "ipython2",
   "version": "2.7.10"
  }
 },
 "nbformat": 4,
 "nbformat_minor": 0
}
