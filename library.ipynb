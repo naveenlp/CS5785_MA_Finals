{
 "cells": [
  {
   "cell_type": "code",
   "execution_count": null,
   "metadata": {
    "collapsed": false
   },
   "outputs": [],
   "source": [
    "%matplotlib inline\n",
    "import numpy as np\n",
    "from PIL import Image\n",
    "from matplotlib import pyplot as plt\n",
    "import json\n",
    "from sklearn.decomposition import PCA\n",
    "from sklearn import preprocessing\n",
    "from sklearn.lda import LDA\n",
    "from sklearn.cross_validation import cross_val_score\n",
    "from sklearn.ensemble import AdaBoostClassifier\n",
    "from sklearn import linear_model, svm, cross_validation\n",
    "from sklearn.cross_validation import KFold\n",
    "\n",
    "# READ IN DATA AND STORE IN VARIABLES\n",
    "\n",
    "def fp(filename):\n",
    "    return \"../../CS5785-final-data/\"+filename\n",
    "\n",
    "# training data\n",
    "train_cnn = np.load(fp(\"alexnet_feat_train.npy\"))\n",
    "train_bow = np.load(fp(\"SIFTBoW_train.npy\"))\n",
    "train_labels = np.genfromtxt(fp(\"train.txt\"),dtype=None)\n",
    "train_filenames = train_labels[:,0]\n",
    "train_labels = train_labels[:,1]\n",
    "train_attribs = np.array([map(float, line.split(',')) for line in np.genfromtxt(fp(\"attributes_train.txt\"),dtype=None)[:,1]])\n",
    "\n",
    "# testing data\n",
    "test_cnn = np.load(fp(\"alexnet_feat_test.npy\"))\n",
    "test_bow = np.load(fp(\"SIFTBoW_test.npy\"))\n",
    "test_filenames = np.genfromtxt(fp(\"test.txt\"),dtype=None)\n",
    "test_attribs = np.array([map(float, line.split(',')) for line in np.genfromtxt(fp(\"attributes_test.txt\"),dtype=None)[:,1]])\n",
    "\n",
    "# 10k data\n",
    "tenk_cnn = np.load(fp(\"alexnet_feat_10k.npy\"))\n",
    "tenk_bow = np.load(fp(\"SIFTBoW_10k.npy\"))\n",
    "tenk_filenames = np.genfromtxt(fp(\"10k_list.txt\"),dtype=None)\n",
    "with open(fp('captions.json')) as data_file:    \n",
    "        captions_json = json.load(data_file)\n",
    "        \n",
    "# metadata\n",
    "attribute_values = [line.rstrip().replace(\"'\", \"\") for line in open(fp('attributes_list.txt'))]\n"
   ]
  },
  {
   "cell_type": "code",
   "execution_count": 12,
   "metadata": {
    "collapsed": true
   },
   "outputs": [],
   "source": [
    "# HELPER METHODS\n",
    "def get_filename(index, datatype = \"train\"):\n",
    "    if(datatype == \"train\"):\n",
    "        name = train_filenames[index]\n",
    "    elif (datatype == \"test\"):\n",
    "        name = test_filenames[index]\n",
    "    else:\n",
    "        name = tenk_filenames[index]\n",
    "    return name\n",
    "\n",
    "def display_image(filename, datatype = \"train\"):\n",
    "    if((datatype == \"train\") or (datatype == \"test\")):\n",
    "        path = fp('images/') + datatype + '/' + filename\n",
    "    else:\n",
    "        path = fp('10k_images/') + filename\n",
    "        \n",
    "    im = Image.open(path)\n",
    "    size = 200,180\n",
    "    imt = im.convert('RGB')\n",
    "    imt.thumbnail(size, Image.ANTIALIAS)\n",
    "    return imt\n",
    "\n",
    "def display_image2(filename, datatype = \"train\"):\n",
    "    if((datatype == \"train\") or (datatype == \"test\")):\n",
    "        path = fp('images/') + datatype + '/' + filename\n",
    "    else:\n",
    "        path = fp('10k_images/') + filename\n",
    "    \n",
    "    im = Image.open(path).convert('RGB')\n",
    "    arr = np.asarray(im)\n",
    "    plt.imshow(arr, interpolation='nearest')\n",
    "    plt.show()\n",
    "\n",
    "# sample call\n",
    "# display_image(get_filename(8, 'att'), 'att')\n",
    "\n",
    "def kaggle_output(outputs):\n",
    "    kaggle_output = np.vstack([test_filenames,outputs]).transpose()\n",
    "    print kaggle_output\n",
    "    np.savetxt(\"../kaggle_output.csv\", kaggle_output, delimiter=\",\", header=\"ID,Category\", comments='', fmt=\"%s\")\n",
    "    \n",
    "\n",
    "def get_pca(data, count = 50):\n",
    "    pca = PCA(n_components = count)\n",
    "    return pca.fit_transform(data)\n"
   ]
  },
  {
   "cell_type": "code",
   "execution_count": 35,
   "metadata": {
    "collapsed": false
   },
   "outputs": [
    {
     "name": "stdout",
     "output_type": "stream",
     "text": [
      "[NbConvertApp] Converting notebook library.ipynb to python\n",
      "[NbConvertApp] Writing 2792 bytes to library.py\n"
     ]
    }
   ],
   "source": [
    "!ipython nbconvert --to=python library.ipynb"
   ]
  }
 ],
 "metadata": {
  "kernelspec": {
   "display_name": "Python 2",
   "language": "python",
   "name": "python2"
  },
  "language_info": {
   "codemirror_mode": {
    "name": "ipython",
    "version": 2
   },
   "file_extension": ".py",
   "mimetype": "text/x-python",
   "name": "python",
   "nbconvert_exporter": "python",
   "pygments_lexer": "ipython2",
   "version": "2.7.10"
  }
 },
 "nbformat": 4,
 "nbformat_minor": 0
}
