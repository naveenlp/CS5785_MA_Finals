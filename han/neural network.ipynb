{
 "cells": [
  {
   "cell_type": "code",
   "execution_count": null,
   "metadata": {
    "collapsed": true
   },
   "outputs": [],
   "source": [
    "#Neural Netowrk\n",
    "import numpy as np\n",
    "import pandas as pd\n",
    "train_cnn = np.load(\"CS5785-final-data/alexnet_feat_train.npy\")\n",
    "train_bow = np.load(\"CS5785-final-data/SIFTBoW_train.npy\")\n",
    "train_labels = np.genfromtxt(\"CS5785-final-data/train.txt\",dtype=None)\n",
    "train_labels = train_labels[:,1]\n",
    "train_attr = np.genfromtxt(\"CS5785-final-data/attributes_train.txt\",dtype=None)\n",
    "train_attr = pd.read_csv(\"CS5785-final-data/attributes_train.txt\",sep=' |,',header=None)\n",
    "train_attr = train_attr.drop(0,1).values\n",
    "train_all = np.concatenate((train_cnn, train_bow, train_attr),axis=1)\n"
   ]
  },
  {
   "cell_type": "code",
   "execution_count": null,
   "metadata": {
    "collapsed": true
   },
   "outputs": [],
   "source": [
    "from sklearn import preprocessing\n",
    "train_all_scale = preprocessing.scale(train_all)"
   ]
  },
  {
   "cell_type": "code",
   "execution_count": null,
   "metadata": {
    "collapsed": true
   },
   "outputs": [],
   "source": [
    "from sklearn import neural_network, cross_validation\n",
    "X_train, X_test, y_train, y_test = cross_validation.train_test_split(train_all_scale, train_labels,test_size=0.2)\n",
    "nodes = [50,100,500,1000,3000,5000]\n",
    "score_train=[]\n",
    "score_test=[]\n",
    "for i in range(6):\n",
    "    nn = neural_network.MLPClassifier(hidden_layer_sizes=(nodes[i],), activation='relu', algorithm='adam', alpha=0.0001, batch_size=200, learning_rate='adaptive', max_iter=200, early_stopping=False)\n",
    "    nnf = nn.fit(X_train,y_train)\n",
    "    score_train.append(nnf.score(X_train,y_train))\n",
    "    score_test.append(nnf.score(X_test,y_test))\n"
   ]
  }
 ],
 "metadata": {
  "kernelspec": {
   "display_name": "Python 2",
   "language": "python",
   "name": "python2"
  },
  "language_info": {
   "codemirror_mode": {
    "name": "ipython",
    "version": 2
   },
   "file_extension": ".py",
   "mimetype": "text/x-python",
   "name": "python",
   "nbconvert_exporter": "python",
   "pygments_lexer": "ipython2",
   "version": "2.7.10"
  }
 },
 "nbformat": 4,
 "nbformat_minor": 0
}
