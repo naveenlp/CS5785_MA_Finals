{
 "cells": [
  {
   "cell_type": "code",
   "execution_count": null,
   "metadata": {
    "collapsed": true
   },
   "outputs": [],
   "source": [
    "#svm vs. logstic regression\n",
    "\n",
    "import numpy as np\n",
    "from sklearn import preprocessing\n",
    "from sklearn import cross_validation\n",
    "\n",
    "train_cnn = np.load(\"CS5785-final-data/alexnet_feat_train.npy\")\n",
    "train_labels = np.genfromtxt(\"CS5785-final-data/train.txt\",dtype=None)\n",
    "train_labels = train_labels[:,1]\n",
    "train_cnn_scale = preprocessing.scale(train_cnn)"
   ]
  },
  {
   "cell_type": "code",
   "execution_count": null,
   "metadata": {
    "collapsed": true
   },
   "outputs": [],
   "source": [
    "X_train, X_test, y_train, y_test = cross_validation.train_test_split(train_cnn_scale, train_labels,test_size=0.2)\n"
   ]
  },
  {
   "cell_type": "code",
   "execution_count": null,
   "metadata": {
    "collapsed": true
   },
   "outputs": [],
   "source": [
    "from sklearn import linear_model, svm\n",
    "score = svm.SVC(kernel='linear').fit(X_train,y_train).score(X_test,y_test)\n",
    "print score\n",
    "#0.365"
   ]
  },
  {
   "cell_type": "code",
   "execution_count": null,
   "metadata": {
    "collapsed": true
   },
   "outputs": [],
   "source": [
    "lr = linear_model.LogisticRegression(solver='lbfgs',max_iter=300, multi_class='multinomial')\n",
    "score = lr.fit(X_train,y_train).score(X_test,y_test)\n",
    "print score\n",
    "#0.367"
   ]
  },
  {
   "cell_type": "code",
   "execution_count": null,
   "metadata": {
    "collapsed": true
   },
   "outputs": [],
   "source": [
    "lr = linear_model.LogisticRegression(solver='lbfgs',max_iter=300, multi_class='multinomial')\n",
    "\n",
    "svm_scores = []\n",
    "lr_scores = []\n",
    "for train, test in cross_validation.KFold(len(train_cnn_scale),n_folds=5):\n",
    "    X_train,Y_train, X_test,Y_test = train_cnn_scale[train], train_labels[train], train_cnn_scale[test],train_labels[test]\n",
    "    score_svm = svm.SVC(kernel='linear').fit(X_train,Y_train).score(X_test,Y_test)\n",
    "    score_lr = lr.fit(X_train,Y_train).score(X_test,Y_test)\n",
    "    print score_svm\n",
    "    print score_lr\n",
    "    svm_scores.append(score_svm)\n",
    "    lr_scores.append(score_lr)\n",
    "\n",
    "print np.mean(svm_scores)\n",
    "print np.mean(lr_scores)\n",
    "\n",
    "\n",
    "In [36]: svm_scores\n",
    "Out[36]:\n",
    "[0.35666666666666669,\n",
    " 0.37833333333333335,\n",
    " 0.40666666666666668,\n",
    " 0.35333333333333333,\n",
    " 0.35999999999999999]\n",
    "\n",
    "In [37]: lr_scores\n",
    "Out[37]:\n",
    "[0.34000000000000002,\n",
    " 0.35833333333333334,\n",
    " 0.38666666666666666,\n",
    " 0.33500000000000002,\n",
    " 0.35333333333333333]"
   ]
  }
 ],
 "metadata": {
  "kernelspec": {
   "display_name": "Python 2",
   "language": "python",
   "name": "python2"
  },
  "language_info": {
   "codemirror_mode": {
    "name": "ipython",
    "version": 2
   },
   "file_extension": ".py",
   "mimetype": "text/x-python",
   "name": "python",
   "nbconvert_exporter": "python",
   "pygments_lexer": "ipython2",
   "version": "2.7.10"
  }
 },
 "nbformat": 4,
 "nbformat_minor": 0
}
