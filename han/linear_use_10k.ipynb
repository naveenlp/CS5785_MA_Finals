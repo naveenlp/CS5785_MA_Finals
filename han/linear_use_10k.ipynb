{
 "cells": [
  {
   "cell_type": "code",
   "execution_count": 1,
   "metadata": {
    "collapsed": true
   },
   "outputs": [],
   "source": [
    "import numpy as np\n",
    "import pandas as pd\n",
    "train_cnn = np.load(\"CS5785-final-data/alexnet_feat_train.npy\")\n",
    "train_bow = np.load(\"CS5785-final-data/SIFTBoW_train.npy\")\n",
    "train_labels = np.genfromtxt(\"CS5785-final-data/train.txt\",dtype=None)\n",
    "train_labels = train_labels[:,1]\n",
    "train_all = np.concatenate((train_cnn, train_bow),axis=1)\n"
   ]
  },
  {
   "cell_type": "code",
   "execution_count": 2,
   "metadata": {
    "collapsed": false
   },
   "outputs": [],
   "source": [
    "from sklearn import preprocessing\n",
    "train_all_scale = preprocessing.scale(train_all)"
   ]
  },
  {
   "cell_type": "code",
   "execution_count": 6,
   "metadata": {
    "collapsed": false
   },
   "outputs": [
    {
     "name": "stdout",
     "output_type": "stream",
     "text": [
      "0.383333333333\n",
      "0.388333333333\n",
      "0.401666666667\n",
      "0.368333333333\n",
      "0.341666666667\n",
      "0.376666666667\n",
      "\n",
      "0.356666666667\n",
      "0.378333333333\n",
      "0.406666666667\n",
      "0.353333333333\n",
      "0.36\n",
      "0.371\n"
     ]
    }
   ],
   "source": [
    "from sklearn import linear_model, svm, cross_validation\n",
    "svm_accuracy_all = []\n",
    "for train, test in cross_validation.KFold(len(train_all_scale),n_folds=5):\n",
    "    X_train,Y_train, X_test,Y_test = train_all_scale[train], train_labels[train], train_all_scale[test],train_labels[test]\n",
    "    score = svm.SVC(kernel='linear').fit(X_train,Y_train).score(X_test,Y_test)\n",
    "    svm_accuracy_all.append(score)\n",
    "    print score\n",
    "print np.mean(svm_accuracy_all)\n",
    "print \"\"\n",
    "\n",
    "train_cnn_scale = preprocessing.scale(train_cnn)\n",
    "svm_accuracy = []\n",
    "for train, test in cross_validation.KFold(len(train_cnn_scale),n_folds=5):\n",
    "    X_train,Y_train, X_test,Y_test = train_cnn_scale[train],train_labels[train],train_cnn_scale[test],train_labels[test]\n",
    "    score = svm.SVC(kernel='linear').fit(X_train,Y_train).score(X_test,Y_test)\n",
    "    svm_accuracy.append(score)\n",
    "    print score\n",
    "print np.mean(svm_accuracy)\n",
    "\n",
    "#use all data still performs better"
   ]
  },
  {
   "cell_type": "code",
   "execution_count": 12,
   "metadata": {
    "collapsed": true
   },
   "outputs": [],
   "source": [
    "#import the 10k data\n",
    "tenk_cnn_fet = np.load(\"./tenk_feat_cnn_labelled.npy\")\n",
    "tenk_bow_fet = np.load(\"./tenk_feat_bow_labelled.npy\")\n",
    "tenk_labels = np.load(\"./tenk_labels.npy\")\n",
    "tenk_all_fet = np.concatenate((tenk_cnn_fet, tenk_bow_fet),axis=1)"
   ]
  },
  {
   "cell_type": "code",
   "execution_count": 22,
   "metadata": {
    "collapsed": false
   },
   "outputs": [],
   "source": [
    "#scale the 10k data\n",
    "means = np.mean(train_all,axis=0)\n",
    "stds = np.std(train_all,axis=0)\n",
    "tenk_scale =(tenk_all_fet - means[None,:])/ stds[None,:]\n"
   ]
  },
  {
   "cell_type": "code",
   "execution_count": 29,
   "metadata": {
    "collapsed": false
   },
   "outputs": [
    {
     "name": "stdout",
     "output_type": "stream",
     "text": [
      "0.241666666667\n",
      "0.28\n",
      "0.261666666667\n",
      "0.246666666667\n",
      "0.251666666667\n",
      "0.256333333333\n",
      "\n"
     ]
    }
   ],
   "source": [
    "#5 fold crosss validation\n",
    "svm_accuracy_all = []\n",
    "for train, test in cross_validation.KFold(len(train_all_scale),n_folds=5):\n",
    "    X_train,Y_train, X_test,Y_test = train_all_scale[train], train_labels[train], train_all_scale[test],train_labels[test]\n",
    "    \n",
    "    #add tenk_scale to the training set\n",
    "    X_train = np.vstack((X_train,tenk_scale))\n",
    "    Y_train = np.concatenate((Y_train,tenk_labels),axis=0)\n",
    "    \n",
    "    score = svm.SVC(kernel='linear').fit(X_train,Y_train).score(X_test,Y_test)\n",
    "    svm_accuracy_all.append(score)\n",
    "    print score\n",
    "print np.mean(svm_accuracy_all)\n",
    "print \"\"\n"
   ]
  },
  {
   "cell_type": "code",
   "execution_count": 28,
   "metadata": {
    "collapsed": false
   },
   "outputs": [
    {
     "data": {
      "text/plain": [
       "array([-0.21855213,  0.01462159, -0.46872263, ...,  0.02431214,\n",
       "       -0.06934375, -0.02548037])"
      ]
     },
     "execution_count": 28,
     "metadata": {},
     "output_type": "execute_result"
    }
   ],
   "source": [
    "#5 fold crosss validation\n",
    "from sklearn import linear_model,cross_validation\n",
    "lr_accuracy_all = []\n",
    "lr = linear_model.LogisticRegression(solver='lbfgs',max_iter=300, multi_class='multinomial')\n",
    "for train, test in cross_validation.KFold(len(train_all_scale),n_folds=5):\n",
    "    X_train,Y_train, X_test,Y_test = train_all_scale[train], train_labels[train], train_all_scale[test],train_labels[test]\n",
    "    \n",
    "    #add tenk_scale to the training set\n",
    "    X_train = np.vstack((X_train,tenk_scale))\n",
    "    Y_train = np.concatenate((Y_train,tenk_labels),axis=0)\n",
    "    score = lr.fit(X_train,Y_train).score(X_test,Y_test)\n",
    "    lr_accuracy_all.append(score)\n",
    "    print score\n",
    "print np.mean(lr_accuracy_all)\n",
    "print \"\"\n",
    "0.21"
   ]
  },
  {
   "cell_type": "code",
   "execution_count": 33,
   "metadata": {
    "collapsed": false
   },
   "outputs": [
    {
     "data": {
      "text/plain": [
       "array([1, 2, 3, 4, 5])"
      ]
     },
     "execution_count": 33,
     "metadata": {},
     "output_type": "execute_result"
    }
   ],
   "source": [
    "np.concatenate(([1,2,3],[4,5]))"
   ]
  },
  {
   "cell_type": "code",
   "execution_count": null,
   "metadata": {
    "collapsed": true
   },
   "outputs": [],
   "source": []
  }
 ],
 "metadata": {
  "kernelspec": {
   "display_name": "Python 2",
   "language": "python",
   "name": "python2"
  },
  "language_info": {
   "codemirror_mode": {
    "name": "ipython",
    "version": 2
   },
   "file_extension": ".py",
   "mimetype": "text/x-python",
   "name": "python",
   "nbconvert_exporter": "python",
   "pygments_lexer": "ipython2",
   "version": "2.7.10"
  }
 },
 "nbformat": 4,
 "nbformat_minor": 0
}
